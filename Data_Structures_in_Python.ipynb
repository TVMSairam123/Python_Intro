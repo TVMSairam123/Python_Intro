{
  "nbformat": 4,
  "nbformat_minor": 0,
  "metadata": {
    "colab": {
      "name": "Data Structures in Python.ipynb",
      "provenance": [],
      "authorship_tag": "ABX9TyMGk/gyB/+3ivsvR63oQe0d",
      "include_colab_link": true
    },
    "kernelspec": {
      "name": "python3",
      "display_name": "Python 3"
    },
    "language_info": {
      "name": "python"
    }
  },
  "cells": [
    {
      "cell_type": "markdown",
      "metadata": {
        "id": "view-in-github",
        "colab_type": "text"
      },
      "source": [
        "<a href=\"https://colab.research.google.com/github/TVMSairam123/Python_Intro/blob/main/Data_Structures_in_Python.ipynb\" target=\"_parent\"><img src=\"https://colab.research.google.com/assets/colab-badge.svg\" alt=\"Open In Colab\"/></a>"
      ]
    },
    {
      "cell_type": "markdown",
      "metadata": {
        "id": "iTa-pQggZscw"
      },
      "source": [
        "### Data Structures in Python\n",
        "\n",
        "- List\n",
        "- Tuple\n",
        "- Dictionaries\n",
        "- Sets"
      ]
    },
    {
      "cell_type": "markdown",
      "metadata": {
        "id": "NkAAnpiHZ2Ih"
      },
      "source": [
        "#### List "
      ]
    },
    {
      "cell_type": "code",
      "metadata": {
        "id": "J0mxOWK7Zhl_"
      },
      "source": [
        "#Creating a list\n",
        "\n",
        "a = [\"Sairam\", 15, True, 20.5, 54.4j]"
      ],
      "execution_count": null,
      "outputs": []
    },
    {
      "cell_type": "code",
      "metadata": {
        "colab": {
          "base_uri": "https://localhost:8080/"
        },
        "id": "cNQRqJwxZ_hI",
        "outputId": "ed5beb5a-fcaf-4df0-ba9a-cadd2bb06889"
      },
      "source": [
        "type(a)"
      ],
      "execution_count": null,
      "outputs": [
        {
          "output_type": "execute_result",
          "data": {
            "text/plain": [
              "list"
            ]
          },
          "metadata": {
            "tags": []
          },
          "execution_count": 2
        }
      ]
    },
    {
      "cell_type": "code",
      "metadata": {
        "colab": {
          "base_uri": "https://localhost:8080/"
        },
        "id": "WBjoMMmaaEsT",
        "outputId": "bafd58d9-f4bd-4c03-fe9c-c8863ccde375"
      },
      "source": [
        "#Methods in Lists\n",
        "\n",
        "#1 Append()\n",
        "\n",
        "course = [\"Python\", \"ML\", \"AI\", \"Cloud\"]\n",
        "\n",
        "print(course)\n",
        "\n",
        "course.append(\"IoT\")\n",
        "\n",
        "print(course)"
      ],
      "execution_count": null,
      "outputs": [
        {
          "output_type": "stream",
          "text": [
            "['Python', 'ML', 'AI', 'Cloud']\n",
            "['Python', 'ML', 'AI', 'Cloud', 'IoT']\n"
          ],
          "name": "stdout"
        }
      ]
    },
    {
      "cell_type": "code",
      "metadata": {
        "colab": {
          "base_uri": "https://localhost:8080/"
        },
        "id": "cZRpYGKlaf4b",
        "outputId": "0d90cdbc-bfa9-4f87-b33a-6e9db1a5fd98"
      },
      "source": [
        "course"
      ],
      "execution_count": null,
      "outputs": [
        {
          "output_type": "execute_result",
          "data": {
            "text/plain": [
              "['Python', 'ML', 'AI', 'Cloud', 'IoT']"
            ]
          },
          "metadata": {
            "tags": []
          },
          "execution_count": 4
        }
      ]
    },
    {
      "cell_type": "code",
      "metadata": {
        "id": "VQQRG-0majm6"
      },
      "source": [
        "course.append(59)"
      ],
      "execution_count": null,
      "outputs": []
    },
    {
      "cell_type": "code",
      "metadata": {
        "colab": {
          "base_uri": "https://localhost:8080/"
        },
        "id": "2cSu9I1xan-f",
        "outputId": "848f0ba4-28c7-4e08-9d3a-15e485ae7a4f"
      },
      "source": [
        "print(course)"
      ],
      "execution_count": null,
      "outputs": [
        {
          "output_type": "stream",
          "text": [
            "['Python', 'ML', 'AI', 'Cloud', 'IoT', 59]\n"
          ],
          "name": "stdout"
        }
      ]
    },
    {
      "cell_type": "code",
      "metadata": {
        "colab": {
          "base_uri": "https://localhost:8080/"
        },
        "id": "TuE-LZpvaozI",
        "outputId": "b7655715-bb54-47cd-e873-677d3c68768f"
      },
      "source": [
        "#2 extend()\n",
        "\n",
        "add_course = [\"DS\", \"VLSI\"]\n",
        "\n",
        "print(course)\n",
        "\n",
        "course.extend(add_course)\n",
        "\n",
        "print(course)"
      ],
      "execution_count": null,
      "outputs": [
        {
          "output_type": "stream",
          "text": [
            "['Python', 'ML', 'AI', 'Cloud', 'IoT', 59]\n",
            "['Python', 'ML', 'AI', 'Cloud', 'IoT', 59, 'DS', 'VLSI']\n"
          ],
          "name": "stdout"
        }
      ]
    },
    {
      "cell_type": "code",
      "metadata": {
        "colab": {
          "base_uri": "https://localhost:8080/"
        },
        "id": "WUect127a4tK",
        "outputId": "bdfa2ff0-5085-4b50-bb7d-8f5200b17fec"
      },
      "source": [
        "#3 Clear()\n",
        "\n",
        "print(add_course)\n",
        "\n",
        "add_course.clear()\n",
        "\n",
        "print(add_course)\n"
      ],
      "execution_count": null,
      "outputs": [
        {
          "output_type": "stream",
          "text": [
            "['DS', 'VLSI']\n",
            "[]\n"
          ],
          "name": "stdout"
        }
      ]
    },
    {
      "cell_type": "code",
      "metadata": {
        "colab": {
          "base_uri": "https://localhost:8080/"
        },
        "id": "swUweXxFbH6f",
        "outputId": "29e04e25-098d-474e-806f-9d5d6d2969c2"
      },
      "source": [
        "#length - len()\n",
        "\n",
        "len(course)"
      ],
      "execution_count": null,
      "outputs": [
        {
          "output_type": "execute_result",
          "data": {
            "text/plain": [
              "8"
            ]
          },
          "metadata": {
            "tags": []
          },
          "execution_count": 9
        }
      ]
    },
    {
      "cell_type": "code",
      "metadata": {
        "colab": {
          "base_uri": "https://localhost:8080/"
        },
        "id": "DI0gnjutbZCX",
        "outputId": "bb4c9dae-120f-4a74-e2b6-6a951c016bc7"
      },
      "source": [
        "#indexing\n",
        "\n",
        "course[5]"
      ],
      "execution_count": null,
      "outputs": [
        {
          "output_type": "execute_result",
          "data": {
            "text/plain": [
              "59"
            ]
          },
          "metadata": {
            "tags": []
          },
          "execution_count": 10
        }
      ]
    },
    {
      "cell_type": "code",
      "metadata": {
        "colab": {
          "base_uri": "https://localhost:8080/"
        },
        "id": "DeQZmO3Zbwcb",
        "outputId": "a793604c-efc4-4de9-e2cd-ca402cddf2bf"
      },
      "source": [
        "#Slicing\n",
        "\n",
        "course[1:6]"
      ],
      "execution_count": null,
      "outputs": [
        {
          "output_type": "execute_result",
          "data": {
            "text/plain": [
              "['ML', 'AI', 'Cloud', 'IoT', 59]"
            ]
          },
          "metadata": {
            "tags": []
          },
          "execution_count": 11
        }
      ]
    },
    {
      "cell_type": "code",
      "metadata": {
        "colab": {
          "base_uri": "https://localhost:8080/"
        },
        "id": "GjCnD6SJb8B3",
        "outputId": "210bdef4-0dab-4f40-9f1a-7524305cf106"
      },
      "source": [
        "#4 Insert()\n",
        "\n",
        "print(course)\n",
        "\n",
        "course.insert(1, \"Java\")\n",
        "\n",
        "print(course)"
      ],
      "execution_count": null,
      "outputs": [
        {
          "output_type": "stream",
          "text": [
            "['Python', 'ML', 'AI', 'Cloud', 'IoT', 59, 'DS', 'VLSI']\n",
            "['Python', 'Java', 'ML', 'AI', 'Cloud', 'IoT', 59, 'DS', 'VLSI']\n"
          ],
          "name": "stdout"
        }
      ]
    },
    {
      "cell_type": "code",
      "metadata": {
        "colab": {
          "base_uri": "https://localhost:8080/"
        },
        "id": "Br74iHR3cGRS",
        "outputId": "9be002a0-1e8a-4850-a0f7-193d92347f37"
      },
      "source": [
        "#5 remove(x)\n",
        "\n",
        "print(course)\n",
        "\n",
        "course.remove(\"VLSI\")\n",
        "\n",
        "print(course)"
      ],
      "execution_count": null,
      "outputs": [
        {
          "output_type": "stream",
          "text": [
            "['Python', 'Java', 'ML', 'AI', 'Cloud', 'IoT', 59, 'DS', 'VLSI']\n",
            "['Python', 'Java', 'ML', 'AI', 'Cloud', 'IoT', 59, 'DS']\n"
          ],
          "name": "stdout"
        }
      ]
    },
    {
      "cell_type": "code",
      "metadata": {
        "colab": {
          "base_uri": "https://localhost:8080/"
        },
        "id": "MpT-ibmIccSL",
        "outputId": "935b305c-59f7-4c4e-e26e-0fc7e86ceb34"
      },
      "source": [
        "#6 copy()\n",
        "\n",
        "print(course)\n",
        "\n",
        "x = course.copy()\n",
        "\n",
        "print(x)"
      ],
      "execution_count": null,
      "outputs": [
        {
          "output_type": "stream",
          "text": [
            "['Python', 'Java', 'ML', 'AI', 'Cloud', 'IoT', 59, 'DS']\n",
            "['Python', 'Java', 'ML', 'AI', 'Cloud', 'IoT', 59, 'DS']\n"
          ],
          "name": "stdout"
        }
      ]
    },
    {
      "cell_type": "code",
      "metadata": {
        "colab": {
          "base_uri": "https://localhost:8080/"
        },
        "id": "5p5baggmcp-K",
        "outputId": "2534cf5b-2b2a-476d-fac9-00f8ea5bb180"
      },
      "source": [
        "#7 count()\n",
        "\n",
        "print(course)\n",
        "\n",
        "course.insert(5, \"Python\")"
      ],
      "execution_count": null,
      "outputs": [
        {
          "output_type": "stream",
          "text": [
            "['Python', 'Java', 'ML', 'AI', 'Cloud', 'IoT', 59, 'DS']\n"
          ],
          "name": "stdout"
        }
      ]
    },
    {
      "cell_type": "code",
      "metadata": {
        "colab": {
          "base_uri": "https://localhost:8080/"
        },
        "id": "pnjovu-Oc4Gq",
        "outputId": "d4560818-d808-4888-d8f8-286b961f052c"
      },
      "source": [
        "print(course)"
      ],
      "execution_count": null,
      "outputs": [
        {
          "output_type": "stream",
          "text": [
            "['Python', 'Java', 'ML', 'AI', 'Cloud', 'Python', 'IoT', 59, 'DS']\n"
          ],
          "name": "stdout"
        }
      ]
    },
    {
      "cell_type": "code",
      "metadata": {
        "colab": {
          "base_uri": "https://localhost:8080/"
        },
        "id": "Z8kdPdHqc60X",
        "outputId": "3fe59ac0-dec0-4ef0-d9e3-4f8b9fadd6b7"
      },
      "source": [
        "course.count(\"Python\")"
      ],
      "execution_count": null,
      "outputs": [
        {
          "output_type": "execute_result",
          "data": {
            "text/plain": [
              "2"
            ]
          },
          "metadata": {
            "tags": []
          },
          "execution_count": 17
        }
      ]
    },
    {
      "cell_type": "code",
      "metadata": {
        "colab": {
          "base_uri": "https://localhost:8080/"
        },
        "id": "F37x1D5odCGV",
        "outputId": "7ad6768d-4e17-43c0-b2c6-935eaf073c85"
      },
      "source": [
        "#8 index()\n",
        "\n",
        "course.index(\"Python\")"
      ],
      "execution_count": null,
      "outputs": [
        {
          "output_type": "execute_result",
          "data": {
            "text/plain": [
              "0"
            ]
          },
          "metadata": {
            "tags": []
          },
          "execution_count": 18
        }
      ]
    },
    {
      "cell_type": "code",
      "metadata": {
        "colab": {
          "base_uri": "https://localhost:8080/"
        },
        "id": "XzALfXU-dLfK",
        "outputId": "d8becfdb-df24-44c6-81f5-6236f0323aee"
      },
      "source": [
        "#9 pop() -> pop() -> Removes the last element of the list, pop(index)-> removes specific index value element\n",
        "\n",
        "print(course)\n",
        "\n",
        "last_course = course.pop()\n",
        "\n",
        "print(course)\n",
        "print(last_course)"
      ],
      "execution_count": null,
      "outputs": [
        {
          "output_type": "stream",
          "text": [
            "['Python', 'Java', 'ML', 'AI', 'Cloud', 'Python', 'IoT', 59, 'DS']\n",
            "['Python', 'Java', 'ML', 'AI', 'Cloud', 'Python', 'IoT', 59]\n",
            "DS\n"
          ],
          "name": "stdout"
        }
      ]
    },
    {
      "cell_type": "code",
      "metadata": {
        "colab": {
          "base_uri": "https://localhost:8080/"
        },
        "id": "3S0PSy7Cdhbe",
        "outputId": "d9fc8c29-cf71-4822-9b3a-6fb20a0e06b8"
      },
      "source": [
        "print(course)\n",
        "\n",
        "last_course = course.pop(5)\n",
        "\n",
        "print(last_course)\n",
        "print(course)"
      ],
      "execution_count": null,
      "outputs": [
        {
          "output_type": "stream",
          "text": [
            "['Python', 'Java', 'ML', 'AI', 'Cloud', 'Python', 'IoT', 59]\n",
            "Python\n",
            "['Python', 'Java', 'ML', 'AI', 'Cloud', 'IoT', 59]\n"
          ],
          "name": "stdout"
        }
      ]
    },
    {
      "cell_type": "code",
      "metadata": {
        "colab": {
          "base_uri": "https://localhost:8080/"
        },
        "id": "8-HrVCUudtCC",
        "outputId": "69756099-eb34-4b2e-b41a-41f590137109"
      },
      "source": [
        "#10 reverse()\n",
        "\n",
        "print(course)\n",
        "\n",
        "course.reverse()\n",
        "\n",
        "print(course)"
      ],
      "execution_count": null,
      "outputs": [
        {
          "output_type": "stream",
          "text": [
            "['Python', 'Java', 'ML', 'AI', 'Cloud', 'IoT', 59]\n",
            "[59, 'IoT', 'Cloud', 'AI', 'ML', 'Java', 'Python']\n"
          ],
          "name": "stdout"
        }
      ]
    },
    {
      "cell_type": "code",
      "metadata": {
        "colab": {
          "base_uri": "https://localhost:8080/",
          "height": 246
        },
        "id": "OsY9Yq2Cd8Ki",
        "outputId": "de96f9ea-4a1d-4136-f231-8f36a1473b51"
      },
      "source": [
        "#11 sort()\n",
        "\n",
        "print(course)\n",
        "\n",
        "course.sort()\n",
        "\n",
        "print(course)"
      ],
      "execution_count": null,
      "outputs": [
        {
          "output_type": "stream",
          "text": [
            "[59, 'IoT', 'Cloud', 'AI', 'ML', 'Java', 'Python']\n"
          ],
          "name": "stdout"
        },
        {
          "output_type": "error",
          "ename": "TypeError",
          "evalue": "ignored",
          "traceback": [
            "\u001b[0;31m---------------------------------------------------------------------------\u001b[0m",
            "\u001b[0;31mTypeError\u001b[0m                                 Traceback (most recent call last)",
            "\u001b[0;32m<ipython-input-22-9de838c9a2a5>\u001b[0m in \u001b[0;36m<module>\u001b[0;34m()\u001b[0m\n\u001b[1;32m      3\u001b[0m \u001b[0mprint\u001b[0m\u001b[0;34m(\u001b[0m\u001b[0mcourse\u001b[0m\u001b[0;34m)\u001b[0m\u001b[0;34m\u001b[0m\u001b[0;34m\u001b[0m\u001b[0m\n\u001b[1;32m      4\u001b[0m \u001b[0;34m\u001b[0m\u001b[0m\n\u001b[0;32m----> 5\u001b[0;31m \u001b[0mcourse\u001b[0m\u001b[0;34m.\u001b[0m\u001b[0msort\u001b[0m\u001b[0;34m(\u001b[0m\u001b[0;34m)\u001b[0m\u001b[0;34m\u001b[0m\u001b[0;34m\u001b[0m\u001b[0m\n\u001b[0m\u001b[1;32m      6\u001b[0m \u001b[0;34m\u001b[0m\u001b[0m\n\u001b[1;32m      7\u001b[0m \u001b[0mprint\u001b[0m\u001b[0;34m(\u001b[0m\u001b[0mcourse\u001b[0m\u001b[0;34m)\u001b[0m\u001b[0;34m\u001b[0m\u001b[0;34m\u001b[0m\u001b[0m\n",
            "\u001b[0;31mTypeError\u001b[0m: '<' not supported between instances of 'str' and 'int'"
          ]
        }
      ]
    },
    {
      "cell_type": "code",
      "metadata": {
        "colab": {
          "base_uri": "https://localhost:8080/"
        },
        "id": "jU9zsnjHeHjS",
        "outputId": "e9c43ae0-f737-466a-b081-e6f36a035570"
      },
      "source": [
        "course.pop(0)"
      ],
      "execution_count": null,
      "outputs": [
        {
          "output_type": "execute_result",
          "data": {
            "text/plain": [
              "59"
            ]
          },
          "metadata": {
            "tags": []
          },
          "execution_count": 23
        }
      ]
    },
    {
      "cell_type": "code",
      "metadata": {
        "colab": {
          "base_uri": "https://localhost:8080/"
        },
        "id": "_4WyP7hDeSin",
        "outputId": "46619ad8-fdca-4978-e95d-18bf97bbdeea"
      },
      "source": [
        "course"
      ],
      "execution_count": null,
      "outputs": [
        {
          "output_type": "execute_result",
          "data": {
            "text/plain": [
              "['IoT', 'Cloud', 'AI', 'ML', 'Java', 'Python']"
            ]
          },
          "metadata": {
            "tags": []
          },
          "execution_count": 24
        }
      ]
    },
    {
      "cell_type": "code",
      "metadata": {
        "colab": {
          "base_uri": "https://localhost:8080/"
        },
        "id": "l99rOA2beTkw",
        "outputId": "8c278f83-910a-4b1b-fdad-3ce9db665fe2"
      },
      "source": [
        "print(course)\n",
        "\n",
        "course.sort()\n",
        "\n",
        "print(course)"
      ],
      "execution_count": null,
      "outputs": [
        {
          "output_type": "stream",
          "text": [
            "['IoT', 'Cloud', 'AI', 'ML', 'Java', 'Python']\n",
            "['AI', 'Cloud', 'IoT', 'Java', 'ML', 'Python']\n"
          ],
          "name": "stdout"
        }
      ]
    },
    {
      "cell_type": "code",
      "metadata": {
        "colab": {
          "base_uri": "https://localhost:8080/",
          "height": 212
        },
        "id": "MtS5RP8PeYPW",
        "outputId": "8e4cab3c-b357-4cc1-8671-386d019b4731"
      },
      "source": [
        "#12 del()\n",
        "\n",
        "del_list = [11,2,3,4,5]\n",
        "\n",
        "print(del_list)\n",
        "\n",
        "del del_list\n",
        "\n",
        "print(del_list)"
      ],
      "execution_count": null,
      "outputs": [
        {
          "output_type": "stream",
          "text": [
            "[11, 2, 3, 4, 5]\n"
          ],
          "name": "stdout"
        },
        {
          "output_type": "error",
          "ename": "NameError",
          "evalue": "ignored",
          "traceback": [
            "\u001b[0;31m---------------------------------------------------------------------------\u001b[0m",
            "\u001b[0;31mNameError\u001b[0m                                 Traceback (most recent call last)",
            "\u001b[0;32m<ipython-input-26-9c2d6422b14c>\u001b[0m in \u001b[0;36m<module>\u001b[0;34m()\u001b[0m\n\u001b[1;32m      7\u001b[0m \u001b[0;32mdel\u001b[0m \u001b[0mdel_list\u001b[0m\u001b[0;34m\u001b[0m\u001b[0;34m\u001b[0m\u001b[0m\n\u001b[1;32m      8\u001b[0m \u001b[0;34m\u001b[0m\u001b[0m\n\u001b[0;32m----> 9\u001b[0;31m \u001b[0mprint\u001b[0m\u001b[0;34m(\u001b[0m\u001b[0mdel_list\u001b[0m\u001b[0;34m)\u001b[0m\u001b[0;34m\u001b[0m\u001b[0;34m\u001b[0m\u001b[0m\n\u001b[0m",
            "\u001b[0;31mNameError\u001b[0m: name 'del_list' is not defined"
          ]
        }
      ]
    },
    {
      "cell_type": "code",
      "metadata": {
        "colab": {
          "base_uri": "https://localhost:8080/"
        },
        "id": "3tsEbRYVeoe_",
        "outputId": "40b803a8-d386-42d8-9e1e-7a412c9d1417"
      },
      "source": [
        "#13 concatinate()\n",
        "\n",
        "add_course = [\"java\", \"swift\"]\n",
        "\n",
        "print(add_course)\n",
        "\n",
        "print(course + add_course)"
      ],
      "execution_count": null,
      "outputs": [
        {
          "output_type": "stream",
          "text": [
            "['java', 'swift']\n",
            "['AI', 'Cloud', 'IoT', 'Java', 'ML', 'Python', 'java', 'swift']\n"
          ],
          "name": "stdout"
        }
      ]
    },
    {
      "cell_type": "markdown",
      "metadata": {
        "id": "EH1SZ4xCfL3i"
      },
      "source": [
        "### Tuple"
      ]
    },
    {
      "cell_type": "code",
      "metadata": {
        "colab": {
          "base_uri": "https://localhost:8080/"
        },
        "id": "BQZl2nPifB2D",
        "outputId": "0c5e90c5-744e-4208-acd2-3b52f31b08a7"
      },
      "source": [
        "#1 count()\n",
        "\n",
        "tup1 = (\"Sai\", \"Maheraa\", 23, 23, 27, 51.0)\n",
        "\n",
        "type(tup1)"
      ],
      "execution_count": null,
      "outputs": [
        {
          "output_type": "execute_result",
          "data": {
            "text/plain": [
              "tuple"
            ]
          },
          "metadata": {
            "tags": []
          },
          "execution_count": 28
        }
      ]
    },
    {
      "cell_type": "code",
      "metadata": {
        "colab": {
          "base_uri": "https://localhost:8080/"
        },
        "id": "S0sSc-owghnn",
        "outputId": "ada0de0e-15c7-4696-8d1f-e9c108666895"
      },
      "source": [
        "tup1.count(23)"
      ],
      "execution_count": null,
      "outputs": [
        {
          "output_type": "execute_result",
          "data": {
            "text/plain": [
              "2"
            ]
          },
          "metadata": {
            "tags": []
          },
          "execution_count": 29
        }
      ]
    },
    {
      "cell_type": "code",
      "metadata": {
        "colab": {
          "base_uri": "https://localhost:8080/"
        },
        "id": "sVtlZRBYgmWm",
        "outputId": "e85164fa-4cce-4719-bbc2-1e315649c112"
      },
      "source": [
        "#2 Index()\n",
        "\n",
        "print(tup1)\n",
        "\n",
        "tup1.index(23)"
      ],
      "execution_count": null,
      "outputs": [
        {
          "output_type": "stream",
          "text": [
            "('Sai', 'Maheraa', 23, 23, 27, 51.0)\n"
          ],
          "name": "stdout"
        },
        {
          "output_type": "execute_result",
          "data": {
            "text/plain": [
              "2"
            ]
          },
          "metadata": {
            "tags": []
          },
          "execution_count": 30
        }
      ]
    },
    {
      "cell_type": "code",
      "metadata": {
        "id": "d8TfEA9fgu0K"
      },
      "source": [
        "#Dictionaries"
      ],
      "execution_count": 1,
      "outputs": []
    },
    {
      "cell_type": "code",
      "metadata": {
        "id": "yEq5rlG5xzBb",
        "outputId": "fd13efa1-beab-49e2-c8a1-9dc887c906a5",
        "colab": {
          "base_uri": "https://localhost:8080/"
        }
      },
      "source": [
        "dict1 = {\"Name\" : \"Maheraa\",\n",
        "         \"Age\" : 25,\n",
        "         \"Country\" : \"India\"}\n",
        "\n",
        "print(type(dict1))"
      ],
      "execution_count": 2,
      "outputs": [
        {
          "output_type": "stream",
          "text": [
            "<class 'dict'>\n"
          ],
          "name": "stdout"
        }
      ]
    },
    {
      "cell_type": "code",
      "metadata": {
        "id": "Vv-GIzY5ydwL",
        "outputId": "726b39d6-a6f8-4211-a44e-3ef6a9bddb50",
        "colab": {
          "base_uri": "https://localhost:8080/"
        }
      },
      "source": [
        "print(dict1)"
      ],
      "execution_count": 3,
      "outputs": [
        {
          "output_type": "stream",
          "text": [
            "{'Name': 'Maheraa', 'Age': 25, 'Country': 'India'}\n"
          ],
          "name": "stdout"
        }
      ]
    },
    {
      "cell_type": "code",
      "metadata": {
        "id": "8ZyztWVeyjX4",
        "outputId": "f4a1cdb0-ac18-4385-d66e-2bd23ac2f9d6",
        "colab": {
          "base_uri": "https://localhost:8080/"
        }
      },
      "source": [
        "print(dict1['Name'])"
      ],
      "execution_count": 4,
      "outputs": [
        {
          "output_type": "stream",
          "text": [
            "Maheraa\n"
          ],
          "name": "stdout"
        }
      ]
    },
    {
      "cell_type": "code",
      "metadata": {
        "id": "2qqA4vX1ytOD",
        "outputId": "cd485773-1a83-4d01-91e1-04dcab1646d8",
        "colab": {
          "base_uri": "https://localhost:8080/"
        }
      },
      "source": [
        "print(dict1['Age'])"
      ],
      "execution_count": 5,
      "outputs": [
        {
          "output_type": "stream",
          "text": [
            "25\n"
          ],
          "name": "stdout"
        }
      ]
    },
    {
      "cell_type": "code",
      "metadata": {
        "id": "dyHAgFd6yxq8",
        "outputId": "e9a58a56-61e8-46f8-d236-49f1f4a8382a",
        "colab": {
          "base_uri": "https://localhost:8080/"
        }
      },
      "source": [
        "print(dict1['Country'])"
      ],
      "execution_count": 6,
      "outputs": [
        {
          "output_type": "stream",
          "text": [
            "India\n"
          ],
          "name": "stdout"
        }
      ]
    },
    {
      "cell_type": "code",
      "metadata": {
        "id": "4AXqk0pvzATe",
        "outputId": "66507186-1c5c-40c8-bc72-a3beaa924439",
        "colab": {
          "base_uri": "https://localhost:8080/"
        }
      },
      "source": [
        "#1 Copy()\n",
        "\n",
        "# we need to copy entire dictionary into another variable\n",
        "\n",
        "x = dict1.copy()\n",
        "\n",
        "print(x)"
      ],
      "execution_count": 7,
      "outputs": [
        {
          "output_type": "stream",
          "text": [
            "{'Name': 'Maheraa', 'Age': 25, 'Country': 'India'}\n"
          ],
          "name": "stdout"
        }
      ]
    },
    {
      "cell_type": "code",
      "metadata": {
        "id": "UkGObfyG1QkN",
        "outputId": "c18202fe-2646-46a4-a9f0-5ddc5c7dff04",
        "colab": {
          "base_uri": "https://localhost:8080/"
        }
      },
      "source": [
        "#2 Items()\n",
        "\n",
        "print(dict1)\n",
        "\n",
        "dict1.items()"
      ],
      "execution_count": 8,
      "outputs": [
        {
          "output_type": "stream",
          "text": [
            "{'Name': 'Maheraa', 'Age': 25, 'Country': 'India'}\n"
          ],
          "name": "stdout"
        },
        {
          "output_type": "execute_result",
          "data": {
            "text/plain": [
              "dict_items([('Name', 'Maheraa'), ('Age', 25), ('Country', 'India')])"
            ]
          },
          "metadata": {
            "tags": []
          },
          "execution_count": 8
        }
      ]
    },
    {
      "cell_type": "code",
      "metadata": {
        "id": "SyF4bj6t1eaH",
        "outputId": "535c31e2-ed4c-4c6c-a8d2-1588805f77e3",
        "colab": {
          "base_uri": "https://localhost:8080/"
        }
      },
      "source": [
        "#3 Keys()\n",
        "\n",
        "print(dict1)\n",
        "\n",
        "dict1.keys()"
      ],
      "execution_count": 9,
      "outputs": [
        {
          "output_type": "stream",
          "text": [
            "{'Name': 'Maheraa', 'Age': 25, 'Country': 'India'}\n"
          ],
          "name": "stdout"
        },
        {
          "output_type": "execute_result",
          "data": {
            "text/plain": [
              "dict_keys(['Name', 'Age', 'Country'])"
            ]
          },
          "metadata": {
            "tags": []
          },
          "execution_count": 9
        }
      ]
    },
    {
      "cell_type": "code",
      "metadata": {
        "id": "3gWPO6cP1tTI",
        "outputId": "605adbc2-19a6-4a5e-c3bf-a6deaabf50e6",
        "colab": {
          "base_uri": "https://localhost:8080/"
        }
      },
      "source": [
        "#4 values()\n",
        "\n",
        "print(dict1)\n",
        "\n",
        "dict1.values()"
      ],
      "execution_count": 10,
      "outputs": [
        {
          "output_type": "stream",
          "text": [
            "{'Name': 'Maheraa', 'Age': 25, 'Country': 'India'}\n"
          ],
          "name": "stdout"
        },
        {
          "output_type": "execute_result",
          "data": {
            "text/plain": [
              "dict_values(['Maheraa', 25, 'India'])"
            ]
          },
          "metadata": {
            "tags": []
          },
          "execution_count": 10
        }
      ]
    },
    {
      "cell_type": "code",
      "metadata": {
        "id": "D21L558i10MI",
        "outputId": "8644fadc-9d90-4c57-9cd9-42e877ce02cb",
        "colab": {
          "base_uri": "https://localhost:8080/"
        }
      },
      "source": [
        "#5 popitem()\n",
        "\n",
        "print(dict1)\n",
        "\n",
        "a = dict1.popitem()\n",
        "\n",
        "print(a)\n",
        "\n",
        "print(dict1)"
      ],
      "execution_count": 11,
      "outputs": [
        {
          "output_type": "stream",
          "text": [
            "{'Name': 'Maheraa', 'Age': 25, 'Country': 'India'}\n",
            "('Country', 'India')\n",
            "{'Name': 'Maheraa', 'Age': 25}\n"
          ],
          "name": "stdout"
        }
      ]
    },
    {
      "cell_type": "code",
      "metadata": {
        "id": "nXq4eAHB2IO8",
        "outputId": "95493c13-f5bd-4378-eb4c-6f3abe931edc",
        "colab": {
          "base_uri": "https://localhost:8080/"
        }
      },
      "source": [
        "#6 setdefault()\n",
        "\n",
        "print(dict1)\n",
        "\n",
        "c = dict1.setdefault(\"Country\", \"India\")\n",
        "\n",
        "print(c)\n",
        "print(dict1)"
      ],
      "execution_count": 12,
      "outputs": [
        {
          "output_type": "stream",
          "text": [
            "{'Name': 'Maheraa', 'Age': 25}\n",
            "India\n",
            "{'Name': 'Maheraa', 'Age': 25, 'Country': 'India'}\n"
          ],
          "name": "stdout"
        }
      ]
    },
    {
      "cell_type": "code",
      "metadata": {
        "id": "X6HRSZ_o2tWv",
        "outputId": "50cdf12c-8d82-42f7-ce57-76f944305b69",
        "colab": {
          "base_uri": "https://localhost:8080/"
        }
      },
      "source": [
        "#7 Update()\n",
        "\n",
        "print(dict1)\n",
        "\n",
        "dict1.update({\"City\" : \"Vijayawada\"})\n",
        "\n",
        "print(dict1)"
      ],
      "execution_count": 13,
      "outputs": [
        {
          "output_type": "stream",
          "text": [
            "{'Name': 'Maheraa', 'Age': 25, 'Country': 'India'}\n",
            "{'Name': 'Maheraa', 'Age': 25, 'Country': 'India', 'City': 'Vijayawada'}\n"
          ],
          "name": "stdout"
        }
      ]
    },
    {
      "cell_type": "code",
      "metadata": {
        "id": "ROPbjWxL3W3Q",
        "outputId": "2394e7eb-3833-43de-8234-8507c8632eef",
        "colab": {
          "base_uri": "https://localhost:8080/"
        }
      },
      "source": [
        "a"
      ],
      "execution_count": 14,
      "outputs": [
        {
          "output_type": "execute_result",
          "data": {
            "text/plain": [
              "('Country', 'India')"
            ]
          },
          "metadata": {
            "tags": []
          },
          "execution_count": 14
        }
      ]
    },
    {
      "cell_type": "code",
      "metadata": {
        "id": "gTV0MIS83eAT",
        "outputId": "c081e119-89bb-484c-a3f6-45496543588e",
        "colab": {
          "base_uri": "https://localhost:8080/"
        }
      },
      "source": [
        "type(a)"
      ],
      "execution_count": 15,
      "outputs": [
        {
          "output_type": "execute_result",
          "data": {
            "text/plain": [
              "tuple"
            ]
          },
          "metadata": {
            "tags": []
          },
          "execution_count": 15
        }
      ]
    },
    {
      "cell_type": "code",
      "metadata": {
        "id": "WZhI0Tqw3gFc",
        "outputId": "759e1951-0533-4667-ce78-2e641b3f7c9b",
        "colab": {
          "base_uri": "https://localhost:8080/"
        }
      },
      "source": [
        "print(dict1)\n",
        "\n",
        "dict1.clear()\n",
        "\n",
        "print(dict1)"
      ],
      "execution_count": 16,
      "outputs": [
        {
          "output_type": "stream",
          "text": [
            "{'Name': 'Maheraa', 'Age': 25, 'Country': 'India', 'City': 'Vijayawada'}\n",
            "{}\n"
          ],
          "name": "stdout"
        }
      ]
    },
    {
      "cell_type": "markdown",
      "metadata": {
        "id": "98zi419T3shS"
      },
      "source": [
        "### Conditional Statements\n",
        "\n",
        "- if- condition\n",
        "- if- else\n",
        "- elif\n"
      ]
    },
    {
      "cell_type": "code",
      "metadata": {
        "id": "TcTnT8Wx3nbw",
        "outputId": "83cc0ab0-5129-4348-9313-8f1ef5acdead",
        "colab": {
          "base_uri": "https://localhost:8080/"
        }
      },
      "source": [
        "#if condition\n",
        "\n",
        "argg = True #Assignment operator \n",
        "if(argg == True): #Comparison operator\n",
        "  print(\"Wife won the argg\")"
      ],
      "execution_count": 20,
      "outputs": [
        {
          "output_type": "stream",
          "text": [
            "Wife won the argg\n"
          ],
          "name": "stdout"
        }
      ]
    },
    {
      "cell_type": "code",
      "metadata": {
        "id": "kw9pCgq75QEB",
        "outputId": "ae721b0c-8692-454b-cbd0-60afcacc6125",
        "colab": {
          "base_uri": "https://localhost:8080/"
        }
      },
      "source": [
        "#if - else\n",
        "\n",
        "argg = False\n",
        "\n",
        "if(argg == True):\n",
        "  print(\"Wife won the argg\")\n",
        "else:\n",
        "  print(\"Husband out of house\")"
      ],
      "execution_count": 22,
      "outputs": [
        {
          "output_type": "stream",
          "text": [
            "Husband out of house\n"
          ],
          "name": "stdout"
        }
      ]
    },
    {
      "cell_type": "code",
      "metadata": {
        "id": "W_Del2BC5-en",
        "outputId": "2b758996-6c6a-41c7-a6d4-3d516fed9fec",
        "colab": {
          "base_uri": "https://localhost:8080/"
        }
      },
      "source": [
        "# elif\n",
        "\n",
        "argg = \"Ego\"\n",
        "if (argg == True):\n",
        "  print(\"Wife won the argg\")\n",
        "elif (argg == False):\n",
        "  print(\"Husband is out of house\")\n",
        "else:\n",
        "  print(\"Compramised\")"
      ],
      "execution_count": 25,
      "outputs": [
        {
          "output_type": "stream",
          "text": [
            "Compramised\n"
          ],
          "name": "stdout"
        }
      ]
    },
    {
      "cell_type": "markdown",
      "metadata": {
        "id": "atQmpzgS6vyP"
      },
      "source": [
        "### Loops\n",
        "\n",
        "- For loop\n",
        "- While loop"
      ]
    },
    {
      "cell_type": "code",
      "metadata": {
        "id": "_QVmphWj6h2w",
        "outputId": "d9caf3ef-26e5-42f8-8912-f649df824b22",
        "colab": {
          "base_uri": "https://localhost:8080/"
        }
      },
      "source": [
        "#For loop\n",
        "\n",
        "lst = [10,20,30,40,50]\n",
        "\n",
        "#for variable in input:\n",
        "#  print(varibale)\n",
        "\n",
        "for var1 in lst:\n",
        "  print(var1)  #var1 = 10 -> var1 = 20 -> var1 = 30 ->"
      ],
      "execution_count": 26,
      "outputs": [
        {
          "output_type": "stream",
          "text": [
            "10\n",
            "20\n",
            "30\n",
            "40\n",
            "50\n"
          ],
          "name": "stdout"
        }
      ]
    },
    {
      "cell_type": "code",
      "metadata": {
        "id": "U6tTVS_88OzT",
        "outputId": "a185c423-52bb-41bd-cd7a-6483916412f3",
        "colab": {
          "base_uri": "https://localhost:8080/"
        }
      },
      "source": [
        "tup1 = (20,50,78,52,\"ram\")\n",
        "\n",
        "for ram in tup1:\n",
        "  print(ram)"
      ],
      "execution_count": 30,
      "outputs": [
        {
          "output_type": "stream",
          "text": [
            "20\n",
            "50\n",
            "78\n",
            "52\n",
            "ram\n"
          ],
          "name": "stdout"
        }
      ]
    },
    {
      "cell_type": "code",
      "metadata": {
        "id": "5oItU90o8b_f",
        "outputId": "7b6f16b4-0fda-4360-d565-48335aa3b413",
        "colab": {
          "base_uri": "https://localhost:8080/"
        }
      },
      "source": [
        "str1 = \"Nandini Maheswari\"\n",
        "\n",
        "for name in str1:\n",
        "  print(name)"
      ],
      "execution_count": 31,
      "outputs": [
        {
          "output_type": "stream",
          "text": [
            "N\n",
            "a\n",
            "n\n",
            "d\n",
            "i\n",
            "n\n",
            "i\n",
            " \n",
            "M\n",
            "a\n",
            "h\n",
            "e\n",
            "s\n",
            "w\n",
            "a\n",
            "r\n",
            "i\n"
          ],
          "name": "stdout"
        }
      ]
    },
    {
      "cell_type": "code",
      "metadata": {
        "id": "hKO_oeHx9EPR",
        "outputId": "acfe748f-ff27-4a21-9c9e-8281a60d8e73",
        "colab": {
          "base_uri": "https://localhost:8080/"
        }
      },
      "source": [
        "#While Loop\n",
        "\n",
        "a = 0\n",
        "\n",
        "while a <= 10:\n",
        "  print(a)\n",
        "  a += 1"
      ],
      "execution_count": 34,
      "outputs": [
        {
          "output_type": "stream",
          "text": [
            "0\n",
            "1\n",
            "2\n",
            "3\n",
            "4\n",
            "5\n",
            "6\n",
            "7\n",
            "8\n",
            "9\n",
            "10\n"
          ],
          "name": "stdout"
        }
      ]
    },
    {
      "cell_type": "code",
      "metadata": {
        "id": "S7qRh84z943h"
      },
      "source": [
        ""
      ],
      "execution_count": null,
      "outputs": []
    }
  ]
}