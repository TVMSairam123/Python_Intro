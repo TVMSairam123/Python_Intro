{
  "nbformat": 4,
  "nbformat_minor": 0,
  "metadata": {
    "colab": {
      "name": "Data Structures in Python.ipynb",
      "provenance": [],
      "authorship_tag": "ABX9TyPPxOd4/el5bORxqv+qK3gI",
      "include_colab_link": true
    },
    "kernelspec": {
      "name": "python3",
      "display_name": "Python 3"
    },
    "language_info": {
      "name": "python"
    }
  },
  "cells": [
    {
      "cell_type": "markdown",
      "metadata": {
        "id": "view-in-github",
        "colab_type": "text"
      },
      "source": [
        "<a href=\"https://colab.research.google.com/github/TVMSairam123/Python_Intro/blob/main/Data_Structures_in_Python.ipynb\" target=\"_parent\"><img src=\"https://colab.research.google.com/assets/colab-badge.svg\" alt=\"Open In Colab\"/></a>"
      ]
    },
    {
      "cell_type": "markdown",
      "metadata": {
        "id": "iTa-pQggZscw"
      },
      "source": [
        "### Data Structures in Python\n",
        "\n",
        "- List\n",
        "- Tuple\n",
        "- Dictionaries\n",
        "- Sets"
      ]
    },
    {
      "cell_type": "markdown",
      "metadata": {
        "id": "NkAAnpiHZ2Ih"
      },
      "source": [
        "#### List "
      ]
    },
    {
      "cell_type": "code",
      "metadata": {
        "id": "J0mxOWK7Zhl_"
      },
      "source": [
        "#Creating a list\n",
        "\n",
        "a = [\"Sairam\", 15, True, 20.5, 54.4j]"
      ],
      "execution_count": 1,
      "outputs": []
    },
    {
      "cell_type": "code",
      "metadata": {
        "colab": {
          "base_uri": "https://localhost:8080/"
        },
        "id": "cNQRqJwxZ_hI",
        "outputId": "ed5beb5a-fcaf-4df0-ba9a-cadd2bb06889"
      },
      "source": [
        "type(a)"
      ],
      "execution_count": 2,
      "outputs": [
        {
          "output_type": "execute_result",
          "data": {
            "text/plain": [
              "list"
            ]
          },
          "metadata": {
            "tags": []
          },
          "execution_count": 2
        }
      ]
    },
    {
      "cell_type": "code",
      "metadata": {
        "colab": {
          "base_uri": "https://localhost:8080/"
        },
        "id": "WBjoMMmaaEsT",
        "outputId": "bafd58d9-f4bd-4c03-fe9c-c8863ccde375"
      },
      "source": [
        "#Methods in Lists\n",
        "\n",
        "#1 Append()\n",
        "\n",
        "course = [\"Python\", \"ML\", \"AI\", \"Cloud\"]\n",
        "\n",
        "print(course)\n",
        "\n",
        "course.append(\"IoT\")\n",
        "\n",
        "print(course)"
      ],
      "execution_count": 3,
      "outputs": [
        {
          "output_type": "stream",
          "text": [
            "['Python', 'ML', 'AI', 'Cloud']\n",
            "['Python', 'ML', 'AI', 'Cloud', 'IoT']\n"
          ],
          "name": "stdout"
        }
      ]
    },
    {
      "cell_type": "code",
      "metadata": {
        "colab": {
          "base_uri": "https://localhost:8080/"
        },
        "id": "cZRpYGKlaf4b",
        "outputId": "0d90cdbc-bfa9-4f87-b33a-6e9db1a5fd98"
      },
      "source": [
        "course"
      ],
      "execution_count": 4,
      "outputs": [
        {
          "output_type": "execute_result",
          "data": {
            "text/plain": [
              "['Python', 'ML', 'AI', 'Cloud', 'IoT']"
            ]
          },
          "metadata": {
            "tags": []
          },
          "execution_count": 4
        }
      ]
    },
    {
      "cell_type": "code",
      "metadata": {
        "id": "VQQRG-0majm6"
      },
      "source": [
        "course.append(59)"
      ],
      "execution_count": 5,
      "outputs": []
    },
    {
      "cell_type": "code",
      "metadata": {
        "colab": {
          "base_uri": "https://localhost:8080/"
        },
        "id": "2cSu9I1xan-f",
        "outputId": "848f0ba4-28c7-4e08-9d3a-15e485ae7a4f"
      },
      "source": [
        "print(course)"
      ],
      "execution_count": 6,
      "outputs": [
        {
          "output_type": "stream",
          "text": [
            "['Python', 'ML', 'AI', 'Cloud', 'IoT', 59]\n"
          ],
          "name": "stdout"
        }
      ]
    },
    {
      "cell_type": "code",
      "metadata": {
        "colab": {
          "base_uri": "https://localhost:8080/"
        },
        "id": "TuE-LZpvaozI",
        "outputId": "b7655715-bb54-47cd-e873-677d3c68768f"
      },
      "source": [
        "#2 extend()\n",
        "\n",
        "add_course = [\"DS\", \"VLSI\"]\n",
        "\n",
        "print(course)\n",
        "\n",
        "course.extend(add_course)\n",
        "\n",
        "print(course)"
      ],
      "execution_count": 7,
      "outputs": [
        {
          "output_type": "stream",
          "text": [
            "['Python', 'ML', 'AI', 'Cloud', 'IoT', 59]\n",
            "['Python', 'ML', 'AI', 'Cloud', 'IoT', 59, 'DS', 'VLSI']\n"
          ],
          "name": "stdout"
        }
      ]
    },
    {
      "cell_type": "code",
      "metadata": {
        "colab": {
          "base_uri": "https://localhost:8080/"
        },
        "id": "WUect127a4tK",
        "outputId": "bdfa2ff0-5085-4b50-bb7d-8f5200b17fec"
      },
      "source": [
        "#3 Clear()\n",
        "\n",
        "print(add_course)\n",
        "\n",
        "add_course.clear()\n",
        "\n",
        "print(add_course)\n"
      ],
      "execution_count": 8,
      "outputs": [
        {
          "output_type": "stream",
          "text": [
            "['DS', 'VLSI']\n",
            "[]\n"
          ],
          "name": "stdout"
        }
      ]
    },
    {
      "cell_type": "code",
      "metadata": {
        "colab": {
          "base_uri": "https://localhost:8080/"
        },
        "id": "swUweXxFbH6f",
        "outputId": "29e04e25-098d-474e-806f-9d5d6d2969c2"
      },
      "source": [
        "#length - len()\n",
        "\n",
        "len(course)"
      ],
      "execution_count": 9,
      "outputs": [
        {
          "output_type": "execute_result",
          "data": {
            "text/plain": [
              "8"
            ]
          },
          "metadata": {
            "tags": []
          },
          "execution_count": 9
        }
      ]
    },
    {
      "cell_type": "code",
      "metadata": {
        "colab": {
          "base_uri": "https://localhost:8080/"
        },
        "id": "DI0gnjutbZCX",
        "outputId": "bb4c9dae-120f-4a74-e2b6-6a951c016bc7"
      },
      "source": [
        "#indexing\n",
        "\n",
        "course[5]"
      ],
      "execution_count": 10,
      "outputs": [
        {
          "output_type": "execute_result",
          "data": {
            "text/plain": [
              "59"
            ]
          },
          "metadata": {
            "tags": []
          },
          "execution_count": 10
        }
      ]
    },
    {
      "cell_type": "code",
      "metadata": {
        "colab": {
          "base_uri": "https://localhost:8080/"
        },
        "id": "DeQZmO3Zbwcb",
        "outputId": "a793604c-efc4-4de9-e2cd-ca402cddf2bf"
      },
      "source": [
        "#Slicing\n",
        "\n",
        "course[1:6]"
      ],
      "execution_count": 11,
      "outputs": [
        {
          "output_type": "execute_result",
          "data": {
            "text/plain": [
              "['ML', 'AI', 'Cloud', 'IoT', 59]"
            ]
          },
          "metadata": {
            "tags": []
          },
          "execution_count": 11
        }
      ]
    },
    {
      "cell_type": "code",
      "metadata": {
        "colab": {
          "base_uri": "https://localhost:8080/"
        },
        "id": "GjCnD6SJb8B3",
        "outputId": "210bdef4-0dab-4f40-9f1a-7524305cf106"
      },
      "source": [
        "#4 Insert()\n",
        "\n",
        "print(course)\n",
        "\n",
        "course.insert(1, \"Java\")\n",
        "\n",
        "print(course)"
      ],
      "execution_count": 12,
      "outputs": [
        {
          "output_type": "stream",
          "text": [
            "['Python', 'ML', 'AI', 'Cloud', 'IoT', 59, 'DS', 'VLSI']\n",
            "['Python', 'Java', 'ML', 'AI', 'Cloud', 'IoT', 59, 'DS', 'VLSI']\n"
          ],
          "name": "stdout"
        }
      ]
    },
    {
      "cell_type": "code",
      "metadata": {
        "colab": {
          "base_uri": "https://localhost:8080/"
        },
        "id": "Br74iHR3cGRS",
        "outputId": "9be002a0-1e8a-4850-a0f7-193d92347f37"
      },
      "source": [
        "#5 remove(x)\n",
        "\n",
        "print(course)\n",
        "\n",
        "course.remove(\"VLSI\")\n",
        "\n",
        "print(course)"
      ],
      "execution_count": 13,
      "outputs": [
        {
          "output_type": "stream",
          "text": [
            "['Python', 'Java', 'ML', 'AI', 'Cloud', 'IoT', 59, 'DS', 'VLSI']\n",
            "['Python', 'Java', 'ML', 'AI', 'Cloud', 'IoT', 59, 'DS']\n"
          ],
          "name": "stdout"
        }
      ]
    },
    {
      "cell_type": "code",
      "metadata": {
        "colab": {
          "base_uri": "https://localhost:8080/"
        },
        "id": "MpT-ibmIccSL",
        "outputId": "935b305c-59f7-4c4e-e26e-0fc7e86ceb34"
      },
      "source": [
        "#6 copy()\n",
        "\n",
        "print(course)\n",
        "\n",
        "x = course.copy()\n",
        "\n",
        "print(x)"
      ],
      "execution_count": 14,
      "outputs": [
        {
          "output_type": "stream",
          "text": [
            "['Python', 'Java', 'ML', 'AI', 'Cloud', 'IoT', 59, 'DS']\n",
            "['Python', 'Java', 'ML', 'AI', 'Cloud', 'IoT', 59, 'DS']\n"
          ],
          "name": "stdout"
        }
      ]
    },
    {
      "cell_type": "code",
      "metadata": {
        "colab": {
          "base_uri": "https://localhost:8080/"
        },
        "id": "5p5baggmcp-K",
        "outputId": "2534cf5b-2b2a-476d-fac9-00f8ea5bb180"
      },
      "source": [
        "#7 count()\n",
        "\n",
        "print(course)\n",
        "\n",
        "course.insert(5, \"Python\")"
      ],
      "execution_count": 15,
      "outputs": [
        {
          "output_type": "stream",
          "text": [
            "['Python', 'Java', 'ML', 'AI', 'Cloud', 'IoT', 59, 'DS']\n"
          ],
          "name": "stdout"
        }
      ]
    },
    {
      "cell_type": "code",
      "metadata": {
        "colab": {
          "base_uri": "https://localhost:8080/"
        },
        "id": "pnjovu-Oc4Gq",
        "outputId": "d4560818-d808-4888-d8f8-286b961f052c"
      },
      "source": [
        "print(course)"
      ],
      "execution_count": 16,
      "outputs": [
        {
          "output_type": "stream",
          "text": [
            "['Python', 'Java', 'ML', 'AI', 'Cloud', 'Python', 'IoT', 59, 'DS']\n"
          ],
          "name": "stdout"
        }
      ]
    },
    {
      "cell_type": "code",
      "metadata": {
        "colab": {
          "base_uri": "https://localhost:8080/"
        },
        "id": "Z8kdPdHqc60X",
        "outputId": "3fe59ac0-dec0-4ef0-d9e3-4f8b9fadd6b7"
      },
      "source": [
        "course.count(\"Python\")"
      ],
      "execution_count": 17,
      "outputs": [
        {
          "output_type": "execute_result",
          "data": {
            "text/plain": [
              "2"
            ]
          },
          "metadata": {
            "tags": []
          },
          "execution_count": 17
        }
      ]
    },
    {
      "cell_type": "code",
      "metadata": {
        "colab": {
          "base_uri": "https://localhost:8080/"
        },
        "id": "F37x1D5odCGV",
        "outputId": "7ad6768d-4e17-43c0-b2c6-935eaf073c85"
      },
      "source": [
        "#8 index()\n",
        "\n",
        "course.index(\"Python\")"
      ],
      "execution_count": 18,
      "outputs": [
        {
          "output_type": "execute_result",
          "data": {
            "text/plain": [
              "0"
            ]
          },
          "metadata": {
            "tags": []
          },
          "execution_count": 18
        }
      ]
    },
    {
      "cell_type": "code",
      "metadata": {
        "colab": {
          "base_uri": "https://localhost:8080/"
        },
        "id": "XzALfXU-dLfK",
        "outputId": "d8becfdb-df24-44c6-81f5-6236f0323aee"
      },
      "source": [
        "#9 pop() -> pop() -> Removes the last element of the list, pop(index)-> removes specific index value element\n",
        "\n",
        "print(course)\n",
        "\n",
        "last_course = course.pop()\n",
        "\n",
        "print(course)\n",
        "print(last_course)"
      ],
      "execution_count": 19,
      "outputs": [
        {
          "output_type": "stream",
          "text": [
            "['Python', 'Java', 'ML', 'AI', 'Cloud', 'Python', 'IoT', 59, 'DS']\n",
            "['Python', 'Java', 'ML', 'AI', 'Cloud', 'Python', 'IoT', 59]\n",
            "DS\n"
          ],
          "name": "stdout"
        }
      ]
    },
    {
      "cell_type": "code",
      "metadata": {
        "colab": {
          "base_uri": "https://localhost:8080/"
        },
        "id": "3S0PSy7Cdhbe",
        "outputId": "d9fc8c29-cf71-4822-9b3a-6fb20a0e06b8"
      },
      "source": [
        "print(course)\n",
        "\n",
        "last_course = course.pop(5)\n",
        "\n",
        "print(last_course)\n",
        "print(course)"
      ],
      "execution_count": 20,
      "outputs": [
        {
          "output_type": "stream",
          "text": [
            "['Python', 'Java', 'ML', 'AI', 'Cloud', 'Python', 'IoT', 59]\n",
            "Python\n",
            "['Python', 'Java', 'ML', 'AI', 'Cloud', 'IoT', 59]\n"
          ],
          "name": "stdout"
        }
      ]
    },
    {
      "cell_type": "code",
      "metadata": {
        "colab": {
          "base_uri": "https://localhost:8080/"
        },
        "id": "8-HrVCUudtCC",
        "outputId": "69756099-eb34-4b2e-b41a-41f590137109"
      },
      "source": [
        "#10 reverse()\n",
        "\n",
        "print(course)\n",
        "\n",
        "course.reverse()\n",
        "\n",
        "print(course)"
      ],
      "execution_count": 21,
      "outputs": [
        {
          "output_type": "stream",
          "text": [
            "['Python', 'Java', 'ML', 'AI', 'Cloud', 'IoT', 59]\n",
            "[59, 'IoT', 'Cloud', 'AI', 'ML', 'Java', 'Python']\n"
          ],
          "name": "stdout"
        }
      ]
    },
    {
      "cell_type": "code",
      "metadata": {
        "colab": {
          "base_uri": "https://localhost:8080/",
          "height": 246
        },
        "id": "OsY9Yq2Cd8Ki",
        "outputId": "de96f9ea-4a1d-4136-f231-8f36a1473b51"
      },
      "source": [
        "#11 sort()\n",
        "\n",
        "print(course)\n",
        "\n",
        "course.sort()\n",
        "\n",
        "print(course)"
      ],
      "execution_count": 22,
      "outputs": [
        {
          "output_type": "stream",
          "text": [
            "[59, 'IoT', 'Cloud', 'AI', 'ML', 'Java', 'Python']\n"
          ],
          "name": "stdout"
        },
        {
          "output_type": "error",
          "ename": "TypeError",
          "evalue": "ignored",
          "traceback": [
            "\u001b[0;31m---------------------------------------------------------------------------\u001b[0m",
            "\u001b[0;31mTypeError\u001b[0m                                 Traceback (most recent call last)",
            "\u001b[0;32m<ipython-input-22-9de838c9a2a5>\u001b[0m in \u001b[0;36m<module>\u001b[0;34m()\u001b[0m\n\u001b[1;32m      3\u001b[0m \u001b[0mprint\u001b[0m\u001b[0;34m(\u001b[0m\u001b[0mcourse\u001b[0m\u001b[0;34m)\u001b[0m\u001b[0;34m\u001b[0m\u001b[0;34m\u001b[0m\u001b[0m\n\u001b[1;32m      4\u001b[0m \u001b[0;34m\u001b[0m\u001b[0m\n\u001b[0;32m----> 5\u001b[0;31m \u001b[0mcourse\u001b[0m\u001b[0;34m.\u001b[0m\u001b[0msort\u001b[0m\u001b[0;34m(\u001b[0m\u001b[0;34m)\u001b[0m\u001b[0;34m\u001b[0m\u001b[0;34m\u001b[0m\u001b[0m\n\u001b[0m\u001b[1;32m      6\u001b[0m \u001b[0;34m\u001b[0m\u001b[0m\n\u001b[1;32m      7\u001b[0m \u001b[0mprint\u001b[0m\u001b[0;34m(\u001b[0m\u001b[0mcourse\u001b[0m\u001b[0;34m)\u001b[0m\u001b[0;34m\u001b[0m\u001b[0;34m\u001b[0m\u001b[0m\n",
            "\u001b[0;31mTypeError\u001b[0m: '<' not supported between instances of 'str' and 'int'"
          ]
        }
      ]
    },
    {
      "cell_type": "code",
      "metadata": {
        "colab": {
          "base_uri": "https://localhost:8080/"
        },
        "id": "jU9zsnjHeHjS",
        "outputId": "e9c43ae0-f737-466a-b081-e6f36a035570"
      },
      "source": [
        "course.pop(0)"
      ],
      "execution_count": 23,
      "outputs": [
        {
          "output_type": "execute_result",
          "data": {
            "text/plain": [
              "59"
            ]
          },
          "metadata": {
            "tags": []
          },
          "execution_count": 23
        }
      ]
    },
    {
      "cell_type": "code",
      "metadata": {
        "colab": {
          "base_uri": "https://localhost:8080/"
        },
        "id": "_4WyP7hDeSin",
        "outputId": "46619ad8-fdca-4978-e95d-18bf97bbdeea"
      },
      "source": [
        "course"
      ],
      "execution_count": 24,
      "outputs": [
        {
          "output_type": "execute_result",
          "data": {
            "text/plain": [
              "['IoT', 'Cloud', 'AI', 'ML', 'Java', 'Python']"
            ]
          },
          "metadata": {
            "tags": []
          },
          "execution_count": 24
        }
      ]
    },
    {
      "cell_type": "code",
      "metadata": {
        "colab": {
          "base_uri": "https://localhost:8080/"
        },
        "id": "l99rOA2beTkw",
        "outputId": "8c278f83-910a-4b1b-fdad-3ce9db665fe2"
      },
      "source": [
        "print(course)\n",
        "\n",
        "course.sort()\n",
        "\n",
        "print(course)"
      ],
      "execution_count": 25,
      "outputs": [
        {
          "output_type": "stream",
          "text": [
            "['IoT', 'Cloud', 'AI', 'ML', 'Java', 'Python']\n",
            "['AI', 'Cloud', 'IoT', 'Java', 'ML', 'Python']\n"
          ],
          "name": "stdout"
        }
      ]
    },
    {
      "cell_type": "code",
      "metadata": {
        "colab": {
          "base_uri": "https://localhost:8080/",
          "height": 212
        },
        "id": "MtS5RP8PeYPW",
        "outputId": "8e4cab3c-b357-4cc1-8671-386d019b4731"
      },
      "source": [
        "#12 del()\n",
        "\n",
        "del_list = [11,2,3,4,5]\n",
        "\n",
        "print(del_list)\n",
        "\n",
        "del del_list\n",
        "\n",
        "print(del_list)"
      ],
      "execution_count": 26,
      "outputs": [
        {
          "output_type": "stream",
          "text": [
            "[11, 2, 3, 4, 5]\n"
          ],
          "name": "stdout"
        },
        {
          "output_type": "error",
          "ename": "NameError",
          "evalue": "ignored",
          "traceback": [
            "\u001b[0;31m---------------------------------------------------------------------------\u001b[0m",
            "\u001b[0;31mNameError\u001b[0m                                 Traceback (most recent call last)",
            "\u001b[0;32m<ipython-input-26-9c2d6422b14c>\u001b[0m in \u001b[0;36m<module>\u001b[0;34m()\u001b[0m\n\u001b[1;32m      7\u001b[0m \u001b[0;32mdel\u001b[0m \u001b[0mdel_list\u001b[0m\u001b[0;34m\u001b[0m\u001b[0;34m\u001b[0m\u001b[0m\n\u001b[1;32m      8\u001b[0m \u001b[0;34m\u001b[0m\u001b[0m\n\u001b[0;32m----> 9\u001b[0;31m \u001b[0mprint\u001b[0m\u001b[0;34m(\u001b[0m\u001b[0mdel_list\u001b[0m\u001b[0;34m)\u001b[0m\u001b[0;34m\u001b[0m\u001b[0;34m\u001b[0m\u001b[0m\n\u001b[0m",
            "\u001b[0;31mNameError\u001b[0m: name 'del_list' is not defined"
          ]
        }
      ]
    },
    {
      "cell_type": "code",
      "metadata": {
        "colab": {
          "base_uri": "https://localhost:8080/"
        },
        "id": "3tsEbRYVeoe_",
        "outputId": "40b803a8-d386-42d8-9e1e-7a412c9d1417"
      },
      "source": [
        "#13 concatinate()\n",
        "\n",
        "add_course = [\"java\", \"swift\"]\n",
        "\n",
        "print(add_course)\n",
        "\n",
        "print(course + add_course)"
      ],
      "execution_count": 27,
      "outputs": [
        {
          "output_type": "stream",
          "text": [
            "['java', 'swift']\n",
            "['AI', 'Cloud', 'IoT', 'Java', 'ML', 'Python', 'java', 'swift']\n"
          ],
          "name": "stdout"
        }
      ]
    },
    {
      "cell_type": "markdown",
      "metadata": {
        "id": "EH1SZ4xCfL3i"
      },
      "source": [
        "### Tuple"
      ]
    },
    {
      "cell_type": "code",
      "metadata": {
        "colab": {
          "base_uri": "https://localhost:8080/"
        },
        "id": "BQZl2nPifB2D",
        "outputId": "0c5e90c5-744e-4208-acd2-3b52f31b08a7"
      },
      "source": [
        "#1 count()\n",
        "\n",
        "tup1 = (\"Sai\", \"Maheraa\", 23, 23, 27, 51.0)\n",
        "\n",
        "type(tup1)"
      ],
      "execution_count": 28,
      "outputs": [
        {
          "output_type": "execute_result",
          "data": {
            "text/plain": [
              "tuple"
            ]
          },
          "metadata": {
            "tags": []
          },
          "execution_count": 28
        }
      ]
    },
    {
      "cell_type": "code",
      "metadata": {
        "colab": {
          "base_uri": "https://localhost:8080/"
        },
        "id": "S0sSc-owghnn",
        "outputId": "ada0de0e-15c7-4696-8d1f-e9c108666895"
      },
      "source": [
        "tup1.count(23)"
      ],
      "execution_count": 29,
      "outputs": [
        {
          "output_type": "execute_result",
          "data": {
            "text/plain": [
              "2"
            ]
          },
          "metadata": {
            "tags": []
          },
          "execution_count": 29
        }
      ]
    },
    {
      "cell_type": "code",
      "metadata": {
        "colab": {
          "base_uri": "https://localhost:8080/"
        },
        "id": "sVtlZRBYgmWm",
        "outputId": "e85164fa-4cce-4719-bbc2-1e315649c112"
      },
      "source": [
        "#2 Index()\n",
        "\n",
        "print(tup1)\n",
        "\n",
        "tup1.index(23)"
      ],
      "execution_count": 30,
      "outputs": [
        {
          "output_type": "stream",
          "text": [
            "('Sai', 'Maheraa', 23, 23, 27, 51.0)\n"
          ],
          "name": "stdout"
        },
        {
          "output_type": "execute_result",
          "data": {
            "text/plain": [
              "2"
            ]
          },
          "metadata": {
            "tags": []
          },
          "execution_count": 30
        }
      ]
    },
    {
      "cell_type": "code",
      "metadata": {
        "id": "d8TfEA9fgu0K"
      },
      "source": [
        ""
      ],
      "execution_count": null,
      "outputs": []
    }
  ]
}