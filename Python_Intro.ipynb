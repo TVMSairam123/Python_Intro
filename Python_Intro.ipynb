{
  "nbformat": 4,
  "nbformat_minor": 0,
  "metadata": {
    "colab": {
      "name": "Python_Intro.ipynb",
      "provenance": [],
      "authorship_tag": "ABX9TyM3ni4b3NmfdCR8YLci5h6j",
      "include_colab_link": true
    },
    "kernelspec": {
      "name": "python3",
      "display_name": "Python 3"
    },
    "language_info": {
      "name": "python"
    }
  },
  "cells": [
    {
      "cell_type": "markdown",
      "metadata": {
        "id": "view-in-github",
        "colab_type": "text"
      },
      "source": [
        "<a href=\"https://colab.research.google.com/github/TVMSairam123/Python_Intro/blob/main/Python_Intro.ipynb\" target=\"_parent\"><img src=\"https://colab.research.google.com/assets/colab-badge.svg\" alt=\"Open In Colab\"/></a>"
      ]
    },
    {
      "cell_type": "markdown",
      "metadata": {
        "id": "Ux_sqQx3zmCR"
      },
      "source": [
        "### **Welcome to Python Programming Session**"
      ]
    },
    {
      "cell_type": "code",
      "metadata": {
        "colab": {
          "base_uri": "https://localhost:8080/"
        },
        "id": "X9NBIDR4zixJ",
        "outputId": "17c81943-f182-4b9f-aad6-bc525e2d1d1a"
      },
      "source": [
        "#Comments - Single line comment\n",
        "\n",
        "#Creating a variable\n",
        "\n",
        "a = 10.25\n",
        "\n",
        "type(a)"
      ],
      "execution_count": null,
      "outputs": [
        {
          "output_type": "execute_result",
          "data": {
            "text/plain": [
              "float"
            ]
          },
          "metadata": {
            "tags": []
          },
          "execution_count": 2
        }
      ]
    },
    {
      "cell_type": "code",
      "metadata": {
        "colab": {
          "base_uri": "https://localhost:8080/"
        },
        "id": "OkBLrsSI1Qy1",
        "outputId": "b8d8dbe6-85e4-42be-8dab-5461899bf6e3"
      },
      "source": [
        "name = \"Sairam\"\n",
        "\n",
        "type(name)"
      ],
      "execution_count": null,
      "outputs": [
        {
          "output_type": "execute_result",
          "data": {
            "text/plain": [
              "str"
            ]
          },
          "metadata": {
            "tags": []
          },
          "execution_count": 3
        }
      ]
    },
    {
      "cell_type": "code",
      "metadata": {
        "colab": {
          "base_uri": "https://localhost:8080/"
        },
        "id": "5ccIzykR1hrN",
        "outputId": "f531ae79-4c0f-4f84-990c-4321a7a153e7"
      },
      "source": [
        "#boolean - True or False\n",
        "\n",
        "bool1 = True\n",
        "\n",
        "type(bool1)"
      ],
      "execution_count": null,
      "outputs": [
        {
          "output_type": "execute_result",
          "data": {
            "text/plain": [
              "bool"
            ]
          },
          "metadata": {
            "tags": []
          },
          "execution_count": 4
        }
      ]
    },
    {
      "cell_type": "code",
      "metadata": {
        "colab": {
          "base_uri": "https://localhost:8080/"
        },
        "id": "dGbki9x21961",
        "outputId": "d00bf357-15f7-42ff-918a-f534036405ed"
      },
      "source": [
        "#complex\n",
        "\n",
        "comp1 = 3+4j\n",
        "\n",
        "type(comp1)"
      ],
      "execution_count": null,
      "outputs": [
        {
          "output_type": "execute_result",
          "data": {
            "text/plain": [
              "complex"
            ]
          },
          "metadata": {
            "tags": []
          },
          "execution_count": 5
        }
      ]
    },
    {
      "cell_type": "code",
      "metadata": {
        "id": "3RoKP_Y82WRJ"
      },
      "source": [
        ""
      ],
      "execution_count": null,
      "outputs": []
    },
    {
      "cell_type": "markdown",
      "metadata": {
        "id": "lKoTg2gg2fsQ"
      },
      "source": [
        "Data Types in Python Programming\n",
        "\n",
        "- Integer\n",
        "- Float\n",
        "- String\n",
        "- Boolean\n",
        "- Complex"
      ]
    },
    {
      "cell_type": "code",
      "metadata": {
        "colab": {
          "base_uri": "https://localhost:8080/"
        },
        "id": "eIcMymnd2dmH",
        "outputId": "9e6ca212-3bb5-4786-c939-81e065439db4"
      },
      "source": [
        "#printing a statement\n",
        "\n",
        "#we have a print() function in python to print any statement  \n",
        "\n",
        "name = \"Sairam\"\n",
        "\n",
        "print(\"Welcome\", name)"
      ],
      "execution_count": null,
      "outputs": [
        {
          "output_type": "stream",
          "text": [
            "Welcome Sairam\n"
          ],
          "name": "stdout"
        }
      ]
    },
    {
      "cell_type": "code",
      "metadata": {
        "colab": {
          "base_uri": "https://localhost:8080/"
        },
        "id": "vYQC9fEF3Gel",
        "outputId": "48a82082-8d57-47ed-c857-5b030e3a08dc"
      },
      "source": [
        "name1 = input(\"Enter Your name:\")\n",
        "\n",
        "print(\"Welcome\", name1)"
      ],
      "execution_count": null,
      "outputs": [
        {
          "output_type": "stream",
          "text": [
            "Enter Your name:Maheraa\n",
            "Welcome Maheraa\n"
          ],
          "name": "stdout"
        }
      ]
    },
    {
      "cell_type": "markdown",
      "metadata": {
        "id": "WRj4VV4P3sNm"
      },
      "source": [
        "###Different Types of Operations in Python\n",
        "\n",
        "- Arithmatic Operators\n",
        "- Assignment \n",
        "- Comparison\n",
        "- Logical\n",
        "- Identity\n",
        "- Membership Operator"
      ]
    },
    {
      "cell_type": "markdown",
      "metadata": {
        "id": "rpE5810W4itc"
      },
      "source": [
        "### Arithmatic Operator\n",
        "\n",
        "- Addition (+)\n",
        "- Subtraction (-)\n",
        "- Multiplication (*)\n",
        "- Division (/)\n",
        "- Modulor (%)\n",
        "- Exponent (**)\n",
        "- Floor Division (//)"
      ]
    },
    {
      "cell_type": "code",
      "metadata": {
        "colab": {
          "base_uri": "https://localhost:8080/"
        },
        "id": "Qj8FIL233ePF",
        "outputId": "d947a98b-b71a-4753-c61d-c3b257c05088"
      },
      "source": [
        "a = 20\n",
        "b = 30\n",
        "\n",
        "print(a+b)\n",
        "print(a-b)\n",
        "print(a*b)\n",
        "print(a/b)\n",
        "print(b/a)\n",
        "print(a%b)\n",
        "print(b%a)\n",
        "print(a**b)\n",
        "print(a//b)\n",
        "print(b//a)"
      ],
      "execution_count": null,
      "outputs": [
        {
          "output_type": "stream",
          "text": [
            "50\n",
            "-10\n",
            "600\n",
            "0.6666666666666666\n",
            "1.5\n",
            "20\n",
            "10\n",
            "1073741824000000000000000000000000000000\n",
            "0\n",
            "1\n"
          ],
          "name": "stdout"
        }
      ]
    },
    {
      "cell_type": "code",
      "metadata": {
        "id": "Xg1cF87g5JRj"
      },
      "source": [
        "#Assignment Operator\n",
        "\n",
        "= \n",
        "\n",
        "+=\n",
        "\n",
        "-=\n",
        "\n",
        "*=\n",
        "\n",
        "/=\n",
        "\n",
        "%=\n",
        "\n",
        "** =\n",
        "\n",
        "//="
      ],
      "execution_count": null,
      "outputs": []
    },
    {
      "cell_type": "code",
      "metadata": {
        "colab": {
          "base_uri": "https://localhost:8080/"
        },
        "id": "262PbERA6Zd9",
        "outputId": "dfa88fce-f2de-4378-c01b-f8d1e6c40ffe"
      },
      "source": [
        "# = \n",
        "\n",
        "a = 10 \n",
        "print(a)\n",
        "\n",
        "# += \n",
        "\n",
        "a += 3 # a = a + 3\n",
        "print(a)\n",
        "\n",
        "# -=\n",
        "\n",
        "a -= 3 # a = a-3\n",
        "print(a)\n",
        "\n",
        "# *=\n",
        "\n",
        "a *= 3 # a = a*3\n",
        "print(a)\n",
        "\n",
        "# /=\n",
        "\n",
        "a /= 3 # a = a/3\n",
        "print(a)\n",
        "\n",
        "# %= \n",
        "a %= 3 # a = a%3\n",
        "print(a)\n",
        "\n",
        "# **=\n",
        "\n",
        "a **= 3 # a = a** 3\n",
        "print(a)\n",
        "\n",
        "# //=\n",
        "\n",
        "a //= 3 #  a = a//3\n",
        "print(a)\n"
      ],
      "execution_count": null,
      "outputs": [
        {
          "output_type": "stream",
          "text": [
            "10\n",
            "13\n",
            "10\n",
            "30\n",
            "10.0\n",
            "1.0\n",
            "1.0\n",
            "0.0\n"
          ],
          "name": "stdout"
        }
      ]
    },
    {
      "cell_type": "markdown",
      "metadata": {
        "id": "kYFN_ngApePQ"
      },
      "source": [
        "### Comparison Operators\n",
        "\n",
        "- ==\n",
        "- !=\n",
        "- <\n",
        "- greater than\n",
        "- <=\n",
        "- greather than or ="
      ]
    },
    {
      "cell_type": "code",
      "metadata": {
        "id": "umDr9ZpM7Q7P"
      },
      "source": [
        "a = 20\n",
        "\n",
        "b = 30"
      ],
      "execution_count": 1,
      "outputs": []
    },
    {
      "cell_type": "code",
      "metadata": {
        "colab": {
          "base_uri": "https://localhost:8080/"
        },
        "id": "Ke3dsdypp3MN",
        "outputId": "478cb1e0-4176-4704-ccb4-97fd9bd4f6fb"
      },
      "source": [
        "print(a == b)"
      ],
      "execution_count": 2,
      "outputs": [
        {
          "output_type": "stream",
          "text": [
            "False\n"
          ],
          "name": "stdout"
        }
      ]
    },
    {
      "cell_type": "code",
      "metadata": {
        "colab": {
          "base_uri": "https://localhost:8080/"
        },
        "id": "gfxPSBg6p9Sz",
        "outputId": "ba9ede51-cae3-4c85-e291-88ee1e6782ed"
      },
      "source": [
        "print(a!=b)"
      ],
      "execution_count": 3,
      "outputs": [
        {
          "output_type": "stream",
          "text": [
            "True\n"
          ],
          "name": "stdout"
        }
      ]
    },
    {
      "cell_type": "code",
      "metadata": {
        "colab": {
          "base_uri": "https://localhost:8080/"
        },
        "id": "RUtZr7BaqKtq",
        "outputId": "0520db2a-9906-450e-e007-6de884c426ae"
      },
      "source": [
        "print(a<b)"
      ],
      "execution_count": 4,
      "outputs": [
        {
          "output_type": "stream",
          "text": [
            "True\n"
          ],
          "name": "stdout"
        }
      ]
    },
    {
      "cell_type": "code",
      "metadata": {
        "colab": {
          "base_uri": "https://localhost:8080/"
        },
        "id": "2tUjoVgzqNeP",
        "outputId": "ad6016fd-0fcd-4c5d-f602-060e80742cda"
      },
      "source": [
        "print(a>b)"
      ],
      "execution_count": 5,
      "outputs": [
        {
          "output_type": "stream",
          "text": [
            "False\n"
          ],
          "name": "stdout"
        }
      ]
    },
    {
      "cell_type": "code",
      "metadata": {
        "colab": {
          "base_uri": "https://localhost:8080/"
        },
        "id": "6Uxq103qqQFS",
        "outputId": "7b12f504-3f7b-4c52-b7f5-435b735d7300"
      },
      "source": [
        "print(a<=b)"
      ],
      "execution_count": 6,
      "outputs": [
        {
          "output_type": "stream",
          "text": [
            "True\n"
          ],
          "name": "stdout"
        }
      ]
    },
    {
      "cell_type": "code",
      "metadata": {
        "colab": {
          "base_uri": "https://localhost:8080/"
        },
        "id": "YkUGnY1MqShr",
        "outputId": "3ebc5eb9-bbcf-4522-816e-f49a06d63bbe"
      },
      "source": [
        "print(a>=b)"
      ],
      "execution_count": 7,
      "outputs": [
        {
          "output_type": "stream",
          "text": [
            "False\n"
          ],
          "name": "stdout"
        }
      ]
    },
    {
      "cell_type": "code",
      "metadata": {
        "colab": {
          "base_uri": "https://localhost:8080/"
        },
        "id": "DH93_ld9qUQP",
        "outputId": "8b150abe-8987-4660-9f10-b50861a6a4fd"
      },
      "source": [
        "print(b>=a)"
      ],
      "execution_count": 8,
      "outputs": [
        {
          "output_type": "stream",
          "text": [
            "True\n"
          ],
          "name": "stdout"
        }
      ]
    },
    {
      "cell_type": "markdown",
      "metadata": {
        "id": "QmzgbgolqZ4L"
      },
      "source": [
        "### Logical Operator\n",
        "\n",
        "- and (the given conditions must be true)\n",
        "- or (atleast one condition must be true)\n",
        "- not (reverse of original condition)"
      ]
    },
    {
      "cell_type": "code",
      "metadata": {
        "id": "fzlkrieTqXjs"
      },
      "source": [
        "a = True\n",
        "b = False"
      ],
      "execution_count": 13,
      "outputs": []
    },
    {
      "cell_type": "code",
      "metadata": {
        "colab": {
          "base_uri": "https://localhost:8080/"
        },
        "id": "O2Z83L8Nqtqm",
        "outputId": "503ea8f7-9036-4c0e-f5e9-5d39057d6965"
      },
      "source": [
        "print(a and b)"
      ],
      "execution_count": 14,
      "outputs": [
        {
          "output_type": "stream",
          "text": [
            "False\n"
          ],
          "name": "stdout"
        }
      ]
    },
    {
      "cell_type": "code",
      "metadata": {
        "colab": {
          "base_uri": "https://localhost:8080/"
        },
        "id": "U4Cx7ARerD4-",
        "outputId": "a8ed1e2d-66c9-4484-cc24-869cd25a346b"
      },
      "source": [
        "print(a or b)"
      ],
      "execution_count": 15,
      "outputs": [
        {
          "output_type": "stream",
          "text": [
            "True\n"
          ],
          "name": "stdout"
        }
      ]
    },
    {
      "cell_type": "code",
      "metadata": {
        "colab": {
          "base_uri": "https://localhost:8080/"
        },
        "id": "zuWzvIn7rYiv",
        "outputId": "ac613fbf-13d3-4289-f085-fd14f7288575"
      },
      "source": [
        "print(not b)"
      ],
      "execution_count": 17,
      "outputs": [
        {
          "output_type": "stream",
          "text": [
            "True\n"
          ],
          "name": "stdout"
        }
      ]
    },
    {
      "cell_type": "code",
      "metadata": {
        "colab": {
          "base_uri": "https://localhost:8080/"
        },
        "id": "3SKLr936rc7A",
        "outputId": "43006547-9c34-499c-f287-6ce933ef4f8e"
      },
      "source": [
        "print(not a)"
      ],
      "execution_count": 18,
      "outputs": [
        {
          "output_type": "stream",
          "text": [
            "False\n"
          ],
          "name": "stdout"
        }
      ]
    },
    {
      "cell_type": "markdown",
      "metadata": {
        "id": "1UtBVNYZrz7P"
      },
      "source": [
        "### Identity operator\n",
        "\n",
        "- is\n",
        "- is not"
      ]
    },
    {
      "cell_type": "code",
      "metadata": {
        "id": "89eNRhrjrqfQ"
      },
      "source": [
        "a1 = 10\n",
        "\n",
        "b1 = 10\n",
        "\n",
        "a2 = \"Sairam\"\n",
        "\n",
        "b2 = \"Sairam\"\n",
        "\n"
      ],
      "execution_count": 23,
      "outputs": []
    },
    {
      "cell_type": "code",
      "metadata": {
        "colab": {
          "base_uri": "https://localhost:8080/"
        },
        "id": "lOaUlC5NsYie",
        "outputId": "5af6a7bd-485d-42c3-f5c5-762970ec1537"
      },
      "source": [
        "print(a1 is b1)"
      ],
      "execution_count": 24,
      "outputs": [
        {
          "output_type": "stream",
          "text": [
            "True\n"
          ],
          "name": "stdout"
        }
      ]
    },
    {
      "cell_type": "code",
      "metadata": {
        "colab": {
          "base_uri": "https://localhost:8080/"
        },
        "id": "FH_geI9Fsdyu",
        "outputId": "d1bdc5ea-748c-4641-ac79-dcff42968968"
      },
      "source": [
        "print(a2 is b2)"
      ],
      "execution_count": 25,
      "outputs": [
        {
          "output_type": "stream",
          "text": [
            "True\n"
          ],
          "name": "stdout"
        }
      ]
    },
    {
      "cell_type": "code",
      "metadata": {
        "colab": {
          "base_uri": "https://localhost:8080/"
        },
        "id": "evL3NDS4sqQj",
        "outputId": "0170117f-d043-4c08-bae3-02b39333b059"
      },
      "source": [
        "print(a1 is not b1)"
      ],
      "execution_count": 26,
      "outputs": [
        {
          "output_type": "stream",
          "text": [
            "False\n"
          ],
          "name": "stdout"
        }
      ]
    },
    {
      "cell_type": "code",
      "metadata": {
        "colab": {
          "base_uri": "https://localhost:8080/"
        },
        "id": "_Y_IoEfnst3f",
        "outputId": "b7567574-7fcc-4f30-bef8-e399d44f0f4c"
      },
      "source": [
        "print(a1 is not a2)"
      ],
      "execution_count": 27,
      "outputs": [
        {
          "output_type": "stream",
          "text": [
            "True\n"
          ],
          "name": "stdout"
        }
      ]
    },
    {
      "cell_type": "markdown",
      "metadata": {
        "id": "uSTNI33NtB4O"
      },
      "source": [
        "### Membership Operator\n",
        "\n",
        "- in\n",
        "\n",
        "- not in"
      ]
    },
    {
      "cell_type": "code",
      "metadata": {
        "colab": {
          "base_uri": "https://localhost:8080/"
        },
        "id": "oC3CW-9Tswg-",
        "outputId": "caafb7d6-6ebb-4649-8a1a-9e2bcaea66aa"
      },
      "source": [
        "name = \"Sairam\"\n",
        "\n",
        "print('S' in name)"
      ],
      "execution_count": 28,
      "outputs": [
        {
          "output_type": "stream",
          "text": [
            "True\n"
          ],
          "name": "stdout"
        }
      ]
    },
    {
      "cell_type": "code",
      "metadata": {
        "colab": {
          "base_uri": "https://localhost:8080/"
        },
        "id": "C3PX2CX-tRP_",
        "outputId": "d66e8d48-6761-4182-d0cb-165dc9ada851"
      },
      "source": [
        "print('s' in name)"
      ],
      "execution_count": 29,
      "outputs": [
        {
          "output_type": "stream",
          "text": [
            "False\n"
          ],
          "name": "stdout"
        }
      ]
    },
    {
      "cell_type": "code",
      "metadata": {
        "colab": {
          "base_uri": "https://localhost:8080/"
        },
        "id": "hAstM_lCtTnj",
        "outputId": "76260835-06bc-4574-b8ca-865d525fff65"
      },
      "source": [
        "print('s' not in name)"
      ],
      "execution_count": 30,
      "outputs": [
        {
          "output_type": "stream",
          "text": [
            "True\n"
          ],
          "name": "stdout"
        }
      ]
    },
    {
      "cell_type": "code",
      "metadata": {
        "colab": {
          "base_uri": "https://localhost:8080/"
        },
        "id": "DuWqb8PQtWmm",
        "outputId": "7cd7b61a-ef67-47ec-c609-5bae8b4a4c1a"
      },
      "source": [
        "x = 'welcome to python class'\n",
        "\n",
        "print(\"welcome\" in x)"
      ],
      "execution_count": 31,
      "outputs": [
        {
          "output_type": "stream",
          "text": [
            "True\n"
          ],
          "name": "stdout"
        }
      ]
    },
    {
      "cell_type": "code",
      "metadata": {
        "colab": {
          "base_uri": "https://localhost:8080/"
        },
        "id": "t_arI8Dqtg7m",
        "outputId": "c24c7efc-a021-4874-a225-72963ea563dc"
      },
      "source": [
        "print('to' in x)"
      ],
      "execution_count": 32,
      "outputs": [
        {
          "output_type": "stream",
          "text": [
            "True\n"
          ],
          "name": "stdout"
        }
      ]
    },
    {
      "cell_type": "code",
      "metadata": {
        "colab": {
          "base_uri": "https://localhost:8080/"
        },
        "id": "wBs3jbbptjdC",
        "outputId": "f1d227b8-0d64-4b14-bd72-a6439bcdbbae"
      },
      "source": [
        "print('python' in x)"
      ],
      "execution_count": 33,
      "outputs": [
        {
          "output_type": "stream",
          "text": [
            "True\n"
          ],
          "name": "stdout"
        }
      ]
    },
    {
      "cell_type": "code",
      "metadata": {
        "colab": {
          "base_uri": "https://localhost:8080/"
        },
        "id": "FaH6gwWCtl8B",
        "outputId": "56d3de68-aa96-489f-b61b-e284b39bbbeb"
      },
      "source": [
        "print('programming' not in x)"
      ],
      "execution_count": 34,
      "outputs": [
        {
          "output_type": "stream",
          "text": [
            "True\n"
          ],
          "name": "stdout"
        }
      ]
    },
    {
      "cell_type": "code",
      "metadata": {
        "colab": {
          "base_uri": "https://localhost:8080/"
        },
        "id": "FH-XSl4utpq6",
        "outputId": "71012b32-8b12-4729-bbef-d5b670409022"
      },
      "source": [
        "print('programming' in x)"
      ],
      "execution_count": 35,
      "outputs": [
        {
          "output_type": "stream",
          "text": [
            "False\n"
          ],
          "name": "stdout"
        }
      ]
    },
    {
      "cell_type": "markdown",
      "metadata": {
        "id": "QurVoFPWu7cj"
      },
      "source": [
        "### Data Types in Python Programming\n",
        "\n",
        "- Numeric Type\n",
        "  - Integer\n",
        "  - Float\n",
        "  - Complex\n",
        "- Strings\n",
        "- Boolean"
      ]
    },
    {
      "cell_type": "code",
      "metadata": {
        "id": "mEPSBSLitt6K"
      },
      "source": [
        "#Nurmeric Type\n",
        "\n",
        "a = 10\n",
        "\n",
        "b = 10.1\n",
        "\n",
        "c = 2+3j"
      ],
      "execution_count": 36,
      "outputs": []
    },
    {
      "cell_type": "code",
      "metadata": {
        "colab": {
          "base_uri": "https://localhost:8080/"
        },
        "id": "REPLAFASwFdn",
        "outputId": "c8ab7526-85f1-4e4b-e47a-b117ae80d7be"
      },
      "source": [
        "print(type(a),type(b),type(c))"
      ],
      "execution_count": 39,
      "outputs": [
        {
          "output_type": "stream",
          "text": [
            "<class 'int'> <class 'float'> <class 'complex'>\n"
          ],
          "name": "stdout"
        }
      ]
    },
    {
      "cell_type": "code",
      "metadata": {
        "colab": {
          "base_uri": "https://localhost:8080/"
        },
        "id": "EDaJJPgOwZc6",
        "outputId": "514ac51f-b849-48e5-8f8c-e4f9c2117442"
      },
      "source": [
        "#String type\n",
        "\n",
        "# Three types of representation\n",
        "# Single ' ' \n",
        "# Double \" \"\n",
        "# Triple ''' '''\n",
        "\n",
        "n1 = \"Sairam\"\n",
        "n2 = 'Sairam'\n",
        "n3 = ''' Sairam '''\n",
        "\n",
        "print(type(n1), type(n2), type(n3))"
      ],
      "execution_count": 41,
      "outputs": [
        {
          "output_type": "stream",
          "text": [
            "<class 'str'> <class 'str'> <class 'str'>\n"
          ],
          "name": "stdout"
        }
      ]
    },
    {
      "cell_type": "code",
      "metadata": {
        "colab": {
          "base_uri": "https://localhost:8080/"
        },
        "id": "03cpEjUXxQgI",
        "outputId": "11048b33-5983-44b7-fe39-c5207fc7a0c6"
      },
      "source": [
        "str1 = \"I'm hungry\"\n",
        "print(str1)"
      ],
      "execution_count": 42,
      "outputs": [
        {
          "output_type": "stream",
          "text": [
            "I'm hungry\n"
          ],
          "name": "stdout"
        }
      ]
    },
    {
      "cell_type": "markdown",
      "metadata": {
        "id": "R8OOGntUxxrj"
      },
      "source": [
        "###Boolean\n",
        "\n",
        "- True\n",
        "- False"
      ]
    },
    {
      "cell_type": "code",
      "metadata": {
        "colab": {
          "base_uri": "https://localhost:8080/"
        },
        "id": "NSv2TksoxlCC",
        "outputId": "a3ae3ef1-1af9-42da-e2a2-e33588d97f36"
      },
      "source": [
        "t1 = True\n",
        "f1 = False\n",
        "\n",
        "print(type(t1), type(f1))"
      ],
      "execution_count": 43,
      "outputs": [
        {
          "output_type": "stream",
          "text": [
            "<class 'bool'> <class 'bool'>\n"
          ],
          "name": "stdout"
        }
      ]
    },
    {
      "cell_type": "markdown",
      "metadata": {
        "id": "jyAXD2uVyB29"
      },
      "source": [
        "### Type Conversions\n",
        "\n",
        "- From int\n",
        "  - Float\n",
        "  - String\n",
        "  - Boolean\n",
        "- From Float\n",
        "  - Int\n",
        "  - String\n",
        "  - Boolean\n",
        "- From String\n",
        "  - Int\n",
        "  - Float\n",
        "  - Boolean\n",
        "- From Boolean\n",
        "  - Int\n",
        "  - Float\n",
        "  - String"
      ]
    },
    {
      "cell_type": "code",
      "metadata": {
        "colab": {
          "base_uri": "https://localhost:8080/"
        },
        "id": "OE1luaiqx6AW",
        "outputId": "c0b78973-f6d5-4a03-d45d-13acbec6b1d4"
      },
      "source": [
        "#From int - float, string, boolean\n",
        "\n",
        "num1 = 10\n",
        "print(type(num1))"
      ],
      "execution_count": 44,
      "outputs": [
        {
          "output_type": "stream",
          "text": [
            "<class 'int'>\n"
          ],
          "name": "stdout"
        }
      ]
    },
    {
      "cell_type": "code",
      "metadata": {
        "colab": {
          "base_uri": "https://localhost:8080/"
        },
        "id": "4_2NIdoayiAe",
        "outputId": "65df2c49-b7d6-45e4-9a24-fb836c1dc6b8"
      },
      "source": [
        "num2 = print(float(num1))\n",
        "type(num2)"
      ],
      "execution_count": 45,
      "outputs": [
        {
          "output_type": "stream",
          "text": [
            "10.0\n"
          ],
          "name": "stdout"
        },
        {
          "output_type": "execute_result",
          "data": {
            "text/plain": [
              "NoneType"
            ]
          },
          "metadata": {
            "tags": []
          },
          "execution_count": 45
        }
      ]
    },
    {
      "cell_type": "code",
      "metadata": {
        "colab": {
          "base_uri": "https://localhost:8080/"
        },
        "id": "1onhtvNtyvQo",
        "outputId": "73776e78-98b9-438d-c605-9d6fe72caa16"
      },
      "source": [
        "print(type(str(num1)))"
      ],
      "execution_count": 48,
      "outputs": [
        {
          "output_type": "stream",
          "text": [
            "<class 'str'>\n"
          ],
          "name": "stdout"
        }
      ]
    },
    {
      "cell_type": "code",
      "metadata": {
        "colab": {
          "base_uri": "https://localhost:8080/"
        },
        "id": "4Bq2kVNpy6ty",
        "outputId": "f87696a7-2750-4535-cdba-9b702c910e94"
      },
      "source": [
        "# If there is any value stored in variable apart zero then it will be printed as True otherwise 0\n",
        "\n",
        "print(bool(num1))"
      ],
      "execution_count": 49,
      "outputs": [
        {
          "output_type": "stream",
          "text": [
            "True\n"
          ],
          "name": "stdout"
        }
      ]
    },
    {
      "cell_type": "code",
      "metadata": {
        "colab": {
          "base_uri": "https://localhost:8080/"
        },
        "id": "JFLFiTSzzsmb",
        "outputId": "7b6cdf9a-2d8f-45dc-a1f9-e4d831c20f96"
      },
      "source": [
        "num2 = 0\n",
        "\n",
        "print(bool(num2))"
      ],
      "execution_count": 50,
      "outputs": [
        {
          "output_type": "stream",
          "text": [
            "False\n"
          ],
          "name": "stdout"
        }
      ]
    },
    {
      "cell_type": "code",
      "metadata": {
        "colab": {
          "base_uri": "https://localhost:8080/"
        },
        "id": "my-Fmu4Lz22v",
        "outputId": "1a1ff6ff-9f6b-47ed-d104-6241250c8f25"
      },
      "source": [
        "#Float - int, string, boolean\n",
        "\n",
        "b = 10.10\n",
        "\n",
        "type(b)"
      ],
      "execution_count": 51,
      "outputs": [
        {
          "output_type": "execute_result",
          "data": {
            "text/plain": [
              "float"
            ]
          },
          "metadata": {
            "tags": []
          },
          "execution_count": 51
        }
      ]
    },
    {
      "cell_type": "code",
      "metadata": {
        "colab": {
          "base_uri": "https://localhost:8080/"
        },
        "id": "mTjOv8Id0GV7",
        "outputId": "452d3e09-df3c-49fb-9a34-3d4f150ab61c"
      },
      "source": [
        "print(type(int(b)))"
      ],
      "execution_count": 57,
      "outputs": [
        {
          "output_type": "stream",
          "text": [
            "<class 'int'>\n"
          ],
          "name": "stdout"
        }
      ]
    },
    {
      "cell_type": "code",
      "metadata": {
        "colab": {
          "base_uri": "https://localhost:8080/"
        },
        "id": "utSItzcv0JzJ",
        "outputId": "fed40762-b0b1-4786-c517-58368744c2c8"
      },
      "source": [
        "print(type(str(b)))"
      ],
      "execution_count": 54,
      "outputs": [
        {
          "output_type": "stream",
          "text": [
            "<class 'str'>\n"
          ],
          "name": "stdout"
        }
      ]
    },
    {
      "cell_type": "code",
      "metadata": {
        "colab": {
          "base_uri": "https://localhost:8080/"
        },
        "id": "7sUcL1ZK0MzR",
        "outputId": "6fe28cf8-2398-44be-f456-3e22c42527ea"
      },
      "source": [
        "print(type(bool(b)))"
      ],
      "execution_count": 56,
      "outputs": [
        {
          "output_type": "stream",
          "text": [
            "<class 'bool'>\n"
          ],
          "name": "stdout"
        }
      ]
    },
    {
      "cell_type": "code",
      "metadata": {
        "colab": {
          "base_uri": "https://localhost:8080/"
        },
        "id": "QwImocPy0VAe",
        "outputId": "95fb36ec-6d36-433b-ea83-3c0358138d3f"
      },
      "source": [
        "#Boolean - int, float, string\n",
        "\n",
        "a =  True\n",
        "type(a)"
      ],
      "execution_count": 58,
      "outputs": [
        {
          "output_type": "execute_result",
          "data": {
            "text/plain": [
              "bool"
            ]
          },
          "metadata": {
            "tags": []
          },
          "execution_count": 58
        }
      ]
    },
    {
      "cell_type": "code",
      "metadata": {
        "colab": {
          "base_uri": "https://localhost:8080/"
        },
        "id": "wZARAT_50q-k",
        "outputId": "4c9589eb-250f-4e29-9c39-65d274c21f8c"
      },
      "source": [
        "print(type(int(a)))\n",
        "print(int(a))"
      ],
      "execution_count": 60,
      "outputs": [
        {
          "output_type": "stream",
          "text": [
            "<class 'int'>\n",
            "1\n"
          ],
          "name": "stdout"
        }
      ]
    },
    {
      "cell_type": "code",
      "metadata": {
        "colab": {
          "base_uri": "https://localhost:8080/"
        },
        "id": "O-MY4wV40vXe",
        "outputId": "527acc03-c980-4b60-ce8d-8881a22aedf4"
      },
      "source": [
        "b = False\n",
        "\n",
        "print(int(b))"
      ],
      "execution_count": 61,
      "outputs": [
        {
          "output_type": "stream",
          "text": [
            "0\n"
          ],
          "name": "stdout"
        }
      ]
    },
    {
      "cell_type": "code",
      "metadata": {
        "colab": {
          "base_uri": "https://localhost:8080/"
        },
        "id": "ncLYWeCw0-oe",
        "outputId": "1d0394de-a5c5-4136-be91-94ebe223407f"
      },
      "source": [
        "print(float(a))"
      ],
      "execution_count": 62,
      "outputs": [
        {
          "output_type": "stream",
          "text": [
            "1.0\n"
          ],
          "name": "stdout"
        }
      ]
    },
    {
      "cell_type": "code",
      "metadata": {
        "colab": {
          "base_uri": "https://localhost:8080/"
        },
        "id": "SS2EyoMj1Clz",
        "outputId": "c4805924-f1aa-4dba-a99f-3d81062280ed"
      },
      "source": [
        "print(float(b))"
      ],
      "execution_count": 63,
      "outputs": [
        {
          "output_type": "stream",
          "text": [
            "0.0\n"
          ],
          "name": "stdout"
        }
      ]
    },
    {
      "cell_type": "code",
      "metadata": {
        "colab": {
          "base_uri": "https://localhost:8080/"
        },
        "id": "gzYtEvIU1FTy",
        "outputId": "20587129-bc5f-472f-d728-8866d14d8efa"
      },
      "source": [
        "print(str(a))"
      ],
      "execution_count": 64,
      "outputs": [
        {
          "output_type": "stream",
          "text": [
            "True\n"
          ],
          "name": "stdout"
        }
      ]
    },
    {
      "cell_type": "code",
      "metadata": {
        "colab": {
          "base_uri": "https://localhost:8080/"
        },
        "id": "uB_SgCpU1JCb",
        "outputId": "b8b4b7f3-eab5-44bb-f1cb-f5a6045401a7"
      },
      "source": [
        "#String - int, float, boolean\n",
        "\n",
        "str3 = '10'\n",
        "\n",
        "type(str3)"
      ],
      "execution_count": 65,
      "outputs": [
        {
          "output_type": "execute_result",
          "data": {
            "text/plain": [
              "str"
            ]
          },
          "metadata": {
            "tags": []
          },
          "execution_count": 65
        }
      ]
    },
    {
      "cell_type": "code",
      "metadata": {
        "colab": {
          "base_uri": "https://localhost:8080/"
        },
        "id": "u-uyZZ8c1S5y",
        "outputId": "09c1eccd-38ee-4c70-c508-6754c6224df1"
      },
      "source": [
        "print(int(str3))\n",
        "print(type(int(str3)))"
      ],
      "execution_count": 67,
      "outputs": [
        {
          "output_type": "stream",
          "text": [
            "10\n",
            "<class 'int'>\n"
          ],
          "name": "stdout"
        }
      ]
    },
    {
      "cell_type": "code",
      "metadata": {
        "colab": {
          "base_uri": "https://localhost:8080/"
        },
        "id": "RMxfQA4d1YSl",
        "outputId": "e9a1e761-5c9d-4210-f77f-4c8e56cf8bc7"
      },
      "source": [
        "print(bool(str3))\n",
        "print(type(bool(str3)))"
      ],
      "execution_count": 68,
      "outputs": [
        {
          "output_type": "stream",
          "text": [
            "True\n",
            "<class 'bool'>\n"
          ],
          "name": "stdout"
        }
      ]
    },
    {
      "cell_type": "code",
      "metadata": {
        "colab": {
          "base_uri": "https://localhost:8080/"
        },
        "id": "N7T41q-G1m4u",
        "outputId": "55b3fe27-a2b9-459b-cd7f-c7f550b5a0b2"
      },
      "source": [
        "print(float(str3))\n",
        "print(type(float(str3)))"
      ],
      "execution_count": 69,
      "outputs": [
        {
          "output_type": "stream",
          "text": [
            "10.0\n",
            "<class 'float'>\n"
          ],
          "name": "stdout"
        }
      ]
    },
    {
      "cell_type": "code",
      "metadata": {
        "id": "zBq59xgs1tjC"
      },
      "source": [
        ""
      ],
      "execution_count": null,
      "outputs": []
    }
  ]
}