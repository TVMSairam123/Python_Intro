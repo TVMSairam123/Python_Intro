{
  "nbformat": 4,
  "nbformat_minor": 0,
  "metadata": {
    "colab": {
      "name": "Python_Intro.ipynb",
      "provenance": [],
      "authorship_tag": "ABX9TyPb5FFmvX/r8ShZE7AX2sFK",
      "include_colab_link": true
    },
    "kernelspec": {
      "name": "python3",
      "display_name": "Python 3"
    },
    "language_info": {
      "name": "python"
    }
  },
  "cells": [
    {
      "cell_type": "markdown",
      "metadata": {
        "id": "view-in-github",
        "colab_type": "text"
      },
      "source": [
        "<a href=\"https://colab.research.google.com/github/TVMSairam123/Python_Intro/blob/main/Python_Intro.ipynb\" target=\"_parent\"><img src=\"https://colab.research.google.com/assets/colab-badge.svg\" alt=\"Open In Colab\"/></a>"
      ]
    },
    {
      "cell_type": "markdown",
      "metadata": {
        "id": "Ux_sqQx3zmCR"
      },
      "source": [
        "### **Welcome to Python Programming Session**"
      ]
    },
    {
      "cell_type": "code",
      "metadata": {
        "colab": {
          "base_uri": "https://localhost:8080/"
        },
        "id": "X9NBIDR4zixJ",
        "outputId": "17c81943-f182-4b9f-aad6-bc525e2d1d1a"
      },
      "source": [
        "#Comments - Single line comment\n",
        "\n",
        "#Creating a variable\n",
        "\n",
        "a = 10.25\n",
        "\n",
        "type(a)"
      ],
      "execution_count": 2,
      "outputs": [
        {
          "output_type": "execute_result",
          "data": {
            "text/plain": [
              "float"
            ]
          },
          "metadata": {
            "tags": []
          },
          "execution_count": 2
        }
      ]
    },
    {
      "cell_type": "code",
      "metadata": {
        "colab": {
          "base_uri": "https://localhost:8080/"
        },
        "id": "OkBLrsSI1Qy1",
        "outputId": "b8d8dbe6-85e4-42be-8dab-5461899bf6e3"
      },
      "source": [
        "name = \"Sairam\"\n",
        "\n",
        "type(name)"
      ],
      "execution_count": 3,
      "outputs": [
        {
          "output_type": "execute_result",
          "data": {
            "text/plain": [
              "str"
            ]
          },
          "metadata": {
            "tags": []
          },
          "execution_count": 3
        }
      ]
    },
    {
      "cell_type": "code",
      "metadata": {
        "colab": {
          "base_uri": "https://localhost:8080/"
        },
        "id": "5ccIzykR1hrN",
        "outputId": "f531ae79-4c0f-4f84-990c-4321a7a153e7"
      },
      "source": [
        "#boolean - True or False\n",
        "\n",
        "bool1 = True\n",
        "\n",
        "type(bool1)"
      ],
      "execution_count": 4,
      "outputs": [
        {
          "output_type": "execute_result",
          "data": {
            "text/plain": [
              "bool"
            ]
          },
          "metadata": {
            "tags": []
          },
          "execution_count": 4
        }
      ]
    },
    {
      "cell_type": "code",
      "metadata": {
        "colab": {
          "base_uri": "https://localhost:8080/"
        },
        "id": "dGbki9x21961",
        "outputId": "d00bf357-15f7-42ff-918a-f534036405ed"
      },
      "source": [
        "#complex\n",
        "\n",
        "comp1 = 3+4j\n",
        "\n",
        "type(comp1)"
      ],
      "execution_count": 5,
      "outputs": [
        {
          "output_type": "execute_result",
          "data": {
            "text/plain": [
              "complex"
            ]
          },
          "metadata": {
            "tags": []
          },
          "execution_count": 5
        }
      ]
    },
    {
      "cell_type": "code",
      "metadata": {
        "id": "3RoKP_Y82WRJ"
      },
      "source": [
        ""
      ],
      "execution_count": null,
      "outputs": []
    },
    {
      "cell_type": "markdown",
      "metadata": {
        "id": "lKoTg2gg2fsQ"
      },
      "source": [
        "Data Types in Python Programming\n",
        "\n",
        "- Integer\n",
        "- Float\n",
        "- String\n",
        "- Boolean\n",
        "- Complex"
      ]
    },
    {
      "cell_type": "code",
      "metadata": {
        "colab": {
          "base_uri": "https://localhost:8080/"
        },
        "id": "eIcMymnd2dmH",
        "outputId": "9e6ca212-3bb5-4786-c939-81e065439db4"
      },
      "source": [
        "#printing a statement\n",
        "\n",
        "#we have a print() function in python to print any statement  \n",
        "\n",
        "name = \"Sairam\"\n",
        "\n",
        "print(\"Welcome\", name)"
      ],
      "execution_count": 6,
      "outputs": [
        {
          "output_type": "stream",
          "text": [
            "Welcome Sairam\n"
          ],
          "name": "stdout"
        }
      ]
    },
    {
      "cell_type": "code",
      "metadata": {
        "colab": {
          "base_uri": "https://localhost:8080/"
        },
        "id": "vYQC9fEF3Gel",
        "outputId": "48a82082-8d57-47ed-c857-5b030e3a08dc"
      },
      "source": [
        "name1 = input(\"Enter Your name:\")\n",
        "\n",
        "print(\"Welcome\", name1)"
      ],
      "execution_count": 7,
      "outputs": [
        {
          "output_type": "stream",
          "text": [
            "Enter Your name:Maheraa\n",
            "Welcome Maheraa\n"
          ],
          "name": "stdout"
        }
      ]
    },
    {
      "cell_type": "markdown",
      "metadata": {
        "id": "WRj4VV4P3sNm"
      },
      "source": [
        "###Different Types of Operations in Python\n",
        "\n",
        "- Arithmatic Operators\n",
        "- Assignment \n",
        "- Comparison\n",
        "- Logical\n",
        "- Identity\n",
        "- Membership Operator"
      ]
    },
    {
      "cell_type": "markdown",
      "metadata": {
        "id": "rpE5810W4itc"
      },
      "source": [
        "### Arithmatic Operator\n",
        "\n",
        "- Addition (+)\n",
        "- Subtraction (-)\n",
        "- Multiplication (*)\n",
        "- Division (/)\n",
        "- Modulor (%)\n",
        "- Exponent (**)\n",
        "- Floor Division (//)"
      ]
    },
    {
      "cell_type": "code",
      "metadata": {
        "colab": {
          "base_uri": "https://localhost:8080/"
        },
        "id": "Qj8FIL233ePF",
        "outputId": "d947a98b-b71a-4753-c61d-c3b257c05088"
      },
      "source": [
        "a = 20\n",
        "b = 30\n",
        "\n",
        "print(a+b)\n",
        "print(a-b)\n",
        "print(a*b)\n",
        "print(a/b)\n",
        "print(b/a)\n",
        "print(a%b)\n",
        "print(b%a)\n",
        "print(a**b)\n",
        "print(a//b)\n",
        "print(b//a)"
      ],
      "execution_count": 9,
      "outputs": [
        {
          "output_type": "stream",
          "text": [
            "50\n",
            "-10\n",
            "600\n",
            "0.6666666666666666\n",
            "1.5\n",
            "20\n",
            "10\n",
            "1073741824000000000000000000000000000000\n",
            "0\n",
            "1\n"
          ],
          "name": "stdout"
        }
      ]
    },
    {
      "cell_type": "code",
      "metadata": {
        "id": "Xg1cF87g5JRj"
      },
      "source": [
        "#Assignment Operator\n",
        "\n",
        "= \n",
        "\n",
        "+=\n",
        "\n",
        "-=\n",
        "\n",
        "*=\n",
        "\n",
        "/=\n",
        "\n",
        "%=\n",
        "\n",
        "** =\n",
        "\n",
        "//="
      ],
      "execution_count": null,
      "outputs": []
    },
    {
      "cell_type": "code",
      "metadata": {
        "colab": {
          "base_uri": "https://localhost:8080/"
        },
        "id": "262PbERA6Zd9",
        "outputId": "dfa88fce-f2de-4378-c01b-f8d1e6c40ffe"
      },
      "source": [
        "# = \n",
        "\n",
        "a = 10 \n",
        "print(a)\n",
        "\n",
        "# += \n",
        "\n",
        "a += 3 # a = a + 3\n",
        "print(a)\n",
        "\n",
        "# -=\n",
        "\n",
        "a -= 3 # a = a-3\n",
        "print(a)\n",
        "\n",
        "# *=\n",
        "\n",
        "a *= 3 # a = a*3\n",
        "print(a)\n",
        "\n",
        "# /=\n",
        "\n",
        "a /= 3 # a = a/3\n",
        "print(a)\n",
        "\n",
        "# %= \n",
        "a %= 3 # a = a%3\n",
        "print(a)\n",
        "\n",
        "# **=\n",
        "\n",
        "a **= 3 # a = a** 3\n",
        "print(a)\n",
        "\n",
        "# //=\n",
        "\n",
        "a //= 3 #  a = a//3\n",
        "print(a)\n"
      ],
      "execution_count": 10,
      "outputs": [
        {
          "output_type": "stream",
          "text": [
            "10\n",
            "13\n",
            "10\n",
            "30\n",
            "10.0\n",
            "1.0\n",
            "1.0\n",
            "0.0\n"
          ],
          "name": "stdout"
        }
      ]
    },
    {
      "cell_type": "code",
      "metadata": {
        "id": "umDr9ZpM7Q7P"
      },
      "source": [
        ""
      ],
      "execution_count": null,
      "outputs": []
    }
  ]
}